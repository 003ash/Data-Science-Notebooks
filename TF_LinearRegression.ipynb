{
  "cells": [
    {
      "cell_type": "code",
      "execution_count": 58,
      "metadata": {
        "colab": {
          "base_uri": "https://localhost:8080/"
        },
        "id": "ggpM8eMERoSl",
        "outputId": "8c5657e4-2f7d-454b-c15f-583f7c1210d5"
      },
      "outputs": [
        {
          "output_type": "stream",
          "name": "stdout",
          "text": [
            "Colab only includes TensorFlow 2.x; %tensorflow_version has no effect.\n",
            "<module 'tensorflow._api.v2.version' from '/usr/local/lib/python3.9/dist-packages/tensorflow/_api/v2/version/__init__.py'>\n"
          ]
        }
      ],
      "source": [
        "%tensorflow_version 2.x\n",
        "import matplotlib.pyplot as plt\n",
        "import tensorflow as tf\n",
        "import numpy as np\n",
        "import pandas as pd\n",
        "print(tf.version)"
      ]
    },
    {
      "cell_type": "code",
      "execution_count": null,
      "metadata": {
        "id": "5dIPjRPBR-la"
      },
      "outputs": [],
      "source": [
        "df = pd.read_csv('/content/drive/MyDrive/Tensorflow/Graduate Admission/Admission_Predict_Ver1.1.csv')\n"
      ]
    },
    {
      "cell_type": "code",
      "execution_count": null,
      "metadata": {
        "colab": {
          "base_uri": "https://localhost:8080/"
        },
        "id": "xcyLb80fZcSr",
        "outputId": "021a30f2-5715-44ec-e981-08417e1f8f14"
      },
      "outputs": [
        {
          "name": "stdout",
          "output_type": "stream",
          "text": [
            "tf.Tensor(\n",
            "[[[1. 1. 1.]\n",
            "  [1. 1. 1.]]], shape=(1, 2, 3), dtype=float32)\n",
            "[1 2 3]\n",
            "tf.Tensor([1 2 3], shape=(3,), dtype=int64)\n"
          ]
        }
      ],
      "source": [
        "tensor1 = tf.ones([1,2,3])\n",
        "print(tensor1)\n",
        "a = np.array([1, 2, 3])\n",
        "b = tf.constant(a)\n",
        "a[0] = 4\n",
        "\n",
        "with tf.compat.v1.Session() as sess:\n",
        "  print(b.numpy())\n",
        "print(b)"
      ]
    },
    {
      "cell_type": "code",
      "execution_count": null,
      "metadata": {
        "colab": {
          "base_uri": "https://localhost:8080/",
          "height": 267
        },
        "id": "u1zXoll6SeF_",
        "outputId": "45e81e35-f5b2-4cb5-a5ab-20beae31406a"
      },
      "outputs": [
        {
          "data": {
            "text/html": [
              "\n",
              "  <div id=\"df-607b4fef-eda2-4d89-980f-01058c4d7cfe\">\n",
              "    <div class=\"colab-df-container\">\n",
              "      <div>\n",
              "<style scoped>\n",
              "    .dataframe tbody tr th:only-of-type {\n",
              "        vertical-align: middle;\n",
              "    }\n",
              "\n",
              "    .dataframe tbody tr th {\n",
              "        vertical-align: top;\n",
              "    }\n",
              "\n",
              "    .dataframe thead th {\n",
              "        text-align: right;\n",
              "    }\n",
              "</style>\n",
              "<table border=\"1\" class=\"dataframe\">\n",
              "  <thead>\n",
              "    <tr style=\"text-align: right;\">\n",
              "      <th></th>\n",
              "      <th>Serial No.</th>\n",
              "      <th>GRE Score</th>\n",
              "      <th>TOEFL Score</th>\n",
              "      <th>University Rating</th>\n",
              "      <th>SOP</th>\n",
              "      <th>LOR</th>\n",
              "      <th>CGPA</th>\n",
              "      <th>Research</th>\n",
              "      <th>Chance of Admit</th>\n",
              "    </tr>\n",
              "  </thead>\n",
              "  <tbody>\n",
              "    <tr>\n",
              "      <th>0</th>\n",
              "      <td>1</td>\n",
              "      <td>337</td>\n",
              "      <td>118</td>\n",
              "      <td>4</td>\n",
              "      <td>4.5</td>\n",
              "      <td>4.5</td>\n",
              "      <td>9.65</td>\n",
              "      <td>1</td>\n",
              "      <td>0.92</td>\n",
              "    </tr>\n",
              "    <tr>\n",
              "      <th>1</th>\n",
              "      <td>2</td>\n",
              "      <td>324</td>\n",
              "      <td>107</td>\n",
              "      <td>4</td>\n",
              "      <td>4.0</td>\n",
              "      <td>4.5</td>\n",
              "      <td>8.87</td>\n",
              "      <td>1</td>\n",
              "      <td>0.76</td>\n",
              "    </tr>\n",
              "    <tr>\n",
              "      <th>2</th>\n",
              "      <td>3</td>\n",
              "      <td>316</td>\n",
              "      <td>104</td>\n",
              "      <td>3</td>\n",
              "      <td>3.0</td>\n",
              "      <td>3.5</td>\n",
              "      <td>8.00</td>\n",
              "      <td>1</td>\n",
              "      <td>0.72</td>\n",
              "    </tr>\n",
              "    <tr>\n",
              "      <th>3</th>\n",
              "      <td>4</td>\n",
              "      <td>322</td>\n",
              "      <td>110</td>\n",
              "      <td>3</td>\n",
              "      <td>3.5</td>\n",
              "      <td>2.5</td>\n",
              "      <td>8.67</td>\n",
              "      <td>1</td>\n",
              "      <td>0.80</td>\n",
              "    </tr>\n",
              "    <tr>\n",
              "      <th>4</th>\n",
              "      <td>5</td>\n",
              "      <td>314</td>\n",
              "      <td>103</td>\n",
              "      <td>2</td>\n",
              "      <td>2.0</td>\n",
              "      <td>3.0</td>\n",
              "      <td>8.21</td>\n",
              "      <td>0</td>\n",
              "      <td>0.65</td>\n",
              "    </tr>\n",
              "  </tbody>\n",
              "</table>\n",
              "</div>\n",
              "      <button class=\"colab-df-convert\" onclick=\"convertToInteractive('df-607b4fef-eda2-4d89-980f-01058c4d7cfe')\"\n",
              "              title=\"Convert this dataframe to an interactive table.\"\n",
              "              style=\"display:none;\">\n",
              "        \n",
              "  <svg xmlns=\"http://www.w3.org/2000/svg\" height=\"24px\"viewBox=\"0 0 24 24\"\n",
              "       width=\"24px\">\n",
              "    <path d=\"M0 0h24v24H0V0z\" fill=\"none\"/>\n",
              "    <path d=\"M18.56 5.44l.94 2.06.94-2.06 2.06-.94-2.06-.94-.94-2.06-.94 2.06-2.06.94zm-11 1L8.5 8.5l.94-2.06 2.06-.94-2.06-.94L8.5 2.5l-.94 2.06-2.06.94zm10 10l.94 2.06.94-2.06 2.06-.94-2.06-.94-.94-2.06-.94 2.06-2.06.94z\"/><path d=\"M17.41 7.96l-1.37-1.37c-.4-.4-.92-.59-1.43-.59-.52 0-1.04.2-1.43.59L10.3 9.45l-7.72 7.72c-.78.78-.78 2.05 0 2.83L4 21.41c.39.39.9.59 1.41.59.51 0 1.02-.2 1.41-.59l7.78-7.78 2.81-2.81c.8-.78.8-2.07 0-2.86zM5.41 20L4 18.59l7.72-7.72 1.47 1.35L5.41 20z\"/>\n",
              "  </svg>\n",
              "      </button>\n",
              "      \n",
              "  <style>\n",
              "    .colab-df-container {\n",
              "      display:flex;\n",
              "      flex-wrap:wrap;\n",
              "      gap: 12px;\n",
              "    }\n",
              "\n",
              "    .colab-df-convert {\n",
              "      background-color: #E8F0FE;\n",
              "      border: none;\n",
              "      border-radius: 50%;\n",
              "      cursor: pointer;\n",
              "      display: none;\n",
              "      fill: #1967D2;\n",
              "      height: 32px;\n",
              "      padding: 0 0 0 0;\n",
              "      width: 32px;\n",
              "    }\n",
              "\n",
              "    .colab-df-convert:hover {\n",
              "      background-color: #E2EBFA;\n",
              "      box-shadow: 0px 1px 2px rgba(60, 64, 67, 0.3), 0px 1px 3px 1px rgba(60, 64, 67, 0.15);\n",
              "      fill: #174EA6;\n",
              "    }\n",
              "\n",
              "    [theme=dark] .colab-df-convert {\n",
              "      background-color: #3B4455;\n",
              "      fill: #D2E3FC;\n",
              "    }\n",
              "\n",
              "    [theme=dark] .colab-df-convert:hover {\n",
              "      background-color: #434B5C;\n",
              "      box-shadow: 0px 1px 3px 1px rgba(0, 0, 0, 0.15);\n",
              "      filter: drop-shadow(0px 1px 2px rgba(0, 0, 0, 0.3));\n",
              "      fill: #FFFFFF;\n",
              "    }\n",
              "  </style>\n",
              "\n",
              "      <script>\n",
              "        const buttonEl =\n",
              "          document.querySelector('#df-607b4fef-eda2-4d89-980f-01058c4d7cfe button.colab-df-convert');\n",
              "        buttonEl.style.display =\n",
              "          google.colab.kernel.accessAllowed ? 'block' : 'none';\n",
              "\n",
              "        async function convertToInteractive(key) {\n",
              "          const element = document.querySelector('#df-607b4fef-eda2-4d89-980f-01058c4d7cfe');\n",
              "          const dataTable =\n",
              "            await google.colab.kernel.invokeFunction('convertToInteractive',\n",
              "                                                     [key], {});\n",
              "          if (!dataTable) return;\n",
              "\n",
              "          const docLinkHtml = 'Like what you see? Visit the ' +\n",
              "            '<a target=\"_blank\" href=https://colab.research.google.com/notebooks/data_table.ipynb>data table notebook</a>'\n",
              "            + ' to learn more about interactive tables.';\n",
              "          element.innerHTML = '';\n",
              "          dataTable['output_type'] = 'display_data';\n",
              "          await google.colab.output.renderOutput(dataTable, element);\n",
              "          const docLink = document.createElement('div');\n",
              "          docLink.innerHTML = docLinkHtml;\n",
              "          element.appendChild(docLink);\n",
              "        }\n",
              "      </script>\n",
              "    </div>\n",
              "  </div>\n",
              "  "
            ],
            "text/plain": [
              "   Serial No.  GRE Score  TOEFL Score  University Rating  SOP  LOR   CGPA  \\\n",
              "0           1        337          118                  4  4.5   4.5  9.65   \n",
              "1           2        324          107                  4  4.0   4.5  8.87   \n",
              "2           3        316          104                  3  3.0   3.5  8.00   \n",
              "3           4        322          110                  3  3.5   2.5  8.67   \n",
              "4           5        314          103                  2  2.0   3.0  8.21   \n",
              "\n",
              "   Research  Chance of Admit   \n",
              "0         1              0.92  \n",
              "1         1              0.76  \n",
              "2         1              0.72  \n",
              "3         1              0.80  \n",
              "4         0              0.65  "
            ]
          },
          "execution_count": 5,
          "metadata": {},
          "output_type": "execute_result"
        }
      ],
      "source": [
        "df.head()"
      ]
    },
    {
      "cell_type": "code",
      "execution_count": null,
      "metadata": {
        "colab": {
          "base_uri": "https://localhost:8080/",
          "height": 381
        },
        "id": "b-mcso3TXHJR",
        "outputId": "cddc1f83-d28b-40b3-b579-b81dcc69b55a"
      },
      "outputs": [
        {
          "data": {
            "text/html": [
              "\n",
              "  <div id=\"df-75f1c4fa-357a-4a94-bb8a-d75240fcd9af\">\n",
              "    <div class=\"colab-df-container\">\n",
              "      <div>\n",
              "<style scoped>\n",
              "    .dataframe tbody tr th:only-of-type {\n",
              "        vertical-align: middle;\n",
              "    }\n",
              "\n",
              "    .dataframe tbody tr th {\n",
              "        vertical-align: top;\n",
              "    }\n",
              "\n",
              "    .dataframe thead th {\n",
              "        text-align: right;\n",
              "    }\n",
              "</style>\n",
              "<table border=\"1\" class=\"dataframe\">\n",
              "  <thead>\n",
              "    <tr style=\"text-align: right;\">\n",
              "      <th></th>\n",
              "      <th>Serial No.</th>\n",
              "      <th>GRE Score</th>\n",
              "      <th>TOEFL Score</th>\n",
              "      <th>University Rating</th>\n",
              "      <th>SOP</th>\n",
              "      <th>LOR</th>\n",
              "      <th>CGPA</th>\n",
              "      <th>Research</th>\n",
              "      <th>Chance of Admit</th>\n",
              "    </tr>\n",
              "  </thead>\n",
              "  <tbody>\n",
              "    <tr>\n",
              "      <th>count</th>\n",
              "      <td>500.000000</td>\n",
              "      <td>500.000000</td>\n",
              "      <td>500.000000</td>\n",
              "      <td>500.000000</td>\n",
              "      <td>500.000000</td>\n",
              "      <td>500.00000</td>\n",
              "      <td>500.000000</td>\n",
              "      <td>500.000000</td>\n",
              "      <td>500.00000</td>\n",
              "    </tr>\n",
              "    <tr>\n",
              "      <th>mean</th>\n",
              "      <td>250.500000</td>\n",
              "      <td>316.472000</td>\n",
              "      <td>107.192000</td>\n",
              "      <td>3.114000</td>\n",
              "      <td>3.374000</td>\n",
              "      <td>3.48400</td>\n",
              "      <td>8.576440</td>\n",
              "      <td>0.560000</td>\n",
              "      <td>0.72174</td>\n",
              "    </tr>\n",
              "    <tr>\n",
              "      <th>std</th>\n",
              "      <td>144.481833</td>\n",
              "      <td>11.295148</td>\n",
              "      <td>6.081868</td>\n",
              "      <td>1.143512</td>\n",
              "      <td>0.991004</td>\n",
              "      <td>0.92545</td>\n",
              "      <td>0.604813</td>\n",
              "      <td>0.496884</td>\n",
              "      <td>0.14114</td>\n",
              "    </tr>\n",
              "    <tr>\n",
              "      <th>min</th>\n",
              "      <td>1.000000</td>\n",
              "      <td>290.000000</td>\n",
              "      <td>92.000000</td>\n",
              "      <td>1.000000</td>\n",
              "      <td>1.000000</td>\n",
              "      <td>1.00000</td>\n",
              "      <td>6.800000</td>\n",
              "      <td>0.000000</td>\n",
              "      <td>0.34000</td>\n",
              "    </tr>\n",
              "    <tr>\n",
              "      <th>25%</th>\n",
              "      <td>125.750000</td>\n",
              "      <td>308.000000</td>\n",
              "      <td>103.000000</td>\n",
              "      <td>2.000000</td>\n",
              "      <td>2.500000</td>\n",
              "      <td>3.00000</td>\n",
              "      <td>8.127500</td>\n",
              "      <td>0.000000</td>\n",
              "      <td>0.63000</td>\n",
              "    </tr>\n",
              "    <tr>\n",
              "      <th>50%</th>\n",
              "      <td>250.500000</td>\n",
              "      <td>317.000000</td>\n",
              "      <td>107.000000</td>\n",
              "      <td>3.000000</td>\n",
              "      <td>3.500000</td>\n",
              "      <td>3.50000</td>\n",
              "      <td>8.560000</td>\n",
              "      <td>1.000000</td>\n",
              "      <td>0.72000</td>\n",
              "    </tr>\n",
              "    <tr>\n",
              "      <th>75%</th>\n",
              "      <td>375.250000</td>\n",
              "      <td>325.000000</td>\n",
              "      <td>112.000000</td>\n",
              "      <td>4.000000</td>\n",
              "      <td>4.000000</td>\n",
              "      <td>4.00000</td>\n",
              "      <td>9.040000</td>\n",
              "      <td>1.000000</td>\n",
              "      <td>0.82000</td>\n",
              "    </tr>\n",
              "    <tr>\n",
              "      <th>max</th>\n",
              "      <td>500.000000</td>\n",
              "      <td>340.000000</td>\n",
              "      <td>120.000000</td>\n",
              "      <td>5.000000</td>\n",
              "      <td>5.000000</td>\n",
              "      <td>5.00000</td>\n",
              "      <td>9.920000</td>\n",
              "      <td>1.000000</td>\n",
              "      <td>0.97000</td>\n",
              "    </tr>\n",
              "  </tbody>\n",
              "</table>\n",
              "</div>\n",
              "      <button class=\"colab-df-convert\" onclick=\"convertToInteractive('df-75f1c4fa-357a-4a94-bb8a-d75240fcd9af')\"\n",
              "              title=\"Convert this dataframe to an interactive table.\"\n",
              "              style=\"display:none;\">\n",
              "        \n",
              "  <svg xmlns=\"http://www.w3.org/2000/svg\" height=\"24px\"viewBox=\"0 0 24 24\"\n",
              "       width=\"24px\">\n",
              "    <path d=\"M0 0h24v24H0V0z\" fill=\"none\"/>\n",
              "    <path d=\"M18.56 5.44l.94 2.06.94-2.06 2.06-.94-2.06-.94-.94-2.06-.94 2.06-2.06.94zm-11 1L8.5 8.5l.94-2.06 2.06-.94-2.06-.94L8.5 2.5l-.94 2.06-2.06.94zm10 10l.94 2.06.94-2.06 2.06-.94-2.06-.94-.94-2.06-.94 2.06-2.06.94z\"/><path d=\"M17.41 7.96l-1.37-1.37c-.4-.4-.92-.59-1.43-.59-.52 0-1.04.2-1.43.59L10.3 9.45l-7.72 7.72c-.78.78-.78 2.05 0 2.83L4 21.41c.39.39.9.59 1.41.59.51 0 1.02-.2 1.41-.59l7.78-7.78 2.81-2.81c.8-.78.8-2.07 0-2.86zM5.41 20L4 18.59l7.72-7.72 1.47 1.35L5.41 20z\"/>\n",
              "  </svg>\n",
              "      </button>\n",
              "      \n",
              "  <style>\n",
              "    .colab-df-container {\n",
              "      display:flex;\n",
              "      flex-wrap:wrap;\n",
              "      gap: 12px;\n",
              "    }\n",
              "\n",
              "    .colab-df-convert {\n",
              "      background-color: #E8F0FE;\n",
              "      border: none;\n",
              "      border-radius: 50%;\n",
              "      cursor: pointer;\n",
              "      display: none;\n",
              "      fill: #1967D2;\n",
              "      height: 32px;\n",
              "      padding: 0 0 0 0;\n",
              "      width: 32px;\n",
              "    }\n",
              "\n",
              "    .colab-df-convert:hover {\n",
              "      background-color: #E2EBFA;\n",
              "      box-shadow: 0px 1px 2px rgba(60, 64, 67, 0.3), 0px 1px 3px 1px rgba(60, 64, 67, 0.15);\n",
              "      fill: #174EA6;\n",
              "    }\n",
              "\n",
              "    [theme=dark] .colab-df-convert {\n",
              "      background-color: #3B4455;\n",
              "      fill: #D2E3FC;\n",
              "    }\n",
              "\n",
              "    [theme=dark] .colab-df-convert:hover {\n",
              "      background-color: #434B5C;\n",
              "      box-shadow: 0px 1px 3px 1px rgba(0, 0, 0, 0.15);\n",
              "      filter: drop-shadow(0px 1px 2px rgba(0, 0, 0, 0.3));\n",
              "      fill: #FFFFFF;\n",
              "    }\n",
              "  </style>\n",
              "\n",
              "      <script>\n",
              "        const buttonEl =\n",
              "          document.querySelector('#df-75f1c4fa-357a-4a94-bb8a-d75240fcd9af button.colab-df-convert');\n",
              "        buttonEl.style.display =\n",
              "          google.colab.kernel.accessAllowed ? 'block' : 'none';\n",
              "\n",
              "        async function convertToInteractive(key) {\n",
              "          const element = document.querySelector('#df-75f1c4fa-357a-4a94-bb8a-d75240fcd9af');\n",
              "          const dataTable =\n",
              "            await google.colab.kernel.invokeFunction('convertToInteractive',\n",
              "                                                     [key], {});\n",
              "          if (!dataTable) return;\n",
              "\n",
              "          const docLinkHtml = 'Like what you see? Visit the ' +\n",
              "            '<a target=\"_blank\" href=https://colab.research.google.com/notebooks/data_table.ipynb>data table notebook</a>'\n",
              "            + ' to learn more about interactive tables.';\n",
              "          element.innerHTML = '';\n",
              "          dataTable['output_type'] = 'display_data';\n",
              "          await google.colab.output.renderOutput(dataTable, element);\n",
              "          const docLink = document.createElement('div');\n",
              "          docLink.innerHTML = docLinkHtml;\n",
              "          element.appendChild(docLink);\n",
              "        }\n",
              "      </script>\n",
              "    </div>\n",
              "  </div>\n",
              "  "
            ],
            "text/plain": [
              "       Serial No.   GRE Score  TOEFL Score  University Rating         SOP  \\\n",
              "count  500.000000  500.000000   500.000000         500.000000  500.000000   \n",
              "mean   250.500000  316.472000   107.192000           3.114000    3.374000   \n",
              "std    144.481833   11.295148     6.081868           1.143512    0.991004   \n",
              "min      1.000000  290.000000    92.000000           1.000000    1.000000   \n",
              "25%    125.750000  308.000000   103.000000           2.000000    2.500000   \n",
              "50%    250.500000  317.000000   107.000000           3.000000    3.500000   \n",
              "75%    375.250000  325.000000   112.000000           4.000000    4.000000   \n",
              "max    500.000000  340.000000   120.000000           5.000000    5.000000   \n",
              "\n",
              "            LOR         CGPA    Research  Chance of Admit   \n",
              "count  500.00000  500.000000  500.000000         500.00000  \n",
              "mean     3.48400    8.576440    0.560000           0.72174  \n",
              "std      0.92545    0.604813    0.496884           0.14114  \n",
              "min      1.00000    6.800000    0.000000           0.34000  \n",
              "25%      3.00000    8.127500    0.000000           0.63000  \n",
              "50%      3.50000    8.560000    1.000000           0.72000  \n",
              "75%      4.00000    9.040000    1.000000           0.82000  \n",
              "max      5.00000    9.920000    1.000000           0.97000  "
            ]
          },
          "execution_count": 6,
          "metadata": {},
          "output_type": "execute_result"
        }
      ],
      "source": [
        "df.describe()"
      ]
    },
    {
      "cell_type": "code",
      "execution_count": null,
      "metadata": {
        "id": "ZZqP-dXZMcuW"
      },
      "outputs": [],
      "source": [
        "from sklearn.model_selection import train_test_split\n",
        "\n",
        "X = df.iloc[:,1:-1]\n",
        "y = df.iloc[:, -1]\n",
        "X_train, X_test, y_train, y_test = train_test_split(X,y,test_size=0.05)"
      ]
    },
    {
      "cell_type": "code",
      "execution_count": null,
      "metadata": {
        "colab": {
          "base_uri": "https://localhost:8080/"
        },
        "id": "Df42PrjiXNtN",
        "outputId": "08ea464b-9b55-45ef-ecf1-70375bb0dbc9"
      },
      "outputs": [
        {
          "name": "stdout",
          "output_type": "stream",
          "text": [
            "<class 'pandas.core.frame.DataFrame'>\n",
            "RangeIndex: 500 entries, 0 to 499\n",
            "Data columns (total 7 columns):\n",
            " #   Column             Non-Null Count  Dtype  \n",
            "---  ------             --------------  -----  \n",
            " 0   GRE Score          500 non-null    int64  \n",
            " 1   TOEFL Score        500 non-null    int64  \n",
            " 2   University Rating  500 non-null    int64  \n",
            " 3   SOP                500 non-null    float64\n",
            " 4   LOR                500 non-null    float64\n",
            " 5   CGPA               500 non-null    float64\n",
            " 6   Research           500 non-null    int64  \n",
            "dtypes: float64(3), int64(4)\n",
            "memory usage: 27.5 KB\n"
          ]
        }
      ],
      "source": [
        "X.info()"
      ]
    },
    {
      "cell_type": "code",
      "execution_count": null,
      "metadata": {
        "colab": {
          "base_uri": "https://localhost:8080/"
        },
        "id": "VMYbPCxTVkmO",
        "outputId": "207fdb5e-f2ae-4188-ae86-6e2f677de909"
      },
      "outputs": [
        {
          "name": "stdout",
          "output_type": "stream",
          "text": [
            "[NumericColumn(key='GRE Score', shape=(1,), default_value=None, dtype=tf.float32, normalizer_fn=None), NumericColumn(key='TOEFL Score', shape=(1,), default_value=None, dtype=tf.float32, normalizer_fn=None), NumericColumn(key='University Rating', shape=(1,), default_value=None, dtype=tf.float32, normalizer_fn=None), NumericColumn(key='SOP', shape=(1,), default_value=None, dtype=tf.float32, normalizer_fn=None), NumericColumn(key='LOR ', shape=(1,), default_value=None, dtype=tf.float32, normalizer_fn=None), NumericColumn(key='CGPA', shape=(1,), default_value=None, dtype=tf.float32, normalizer_fn=None), NumericColumn(key='Research', shape=(1,), default_value=None, dtype=tf.float32, normalizer_fn=None)]\n"
          ]
        }
      ],
      "source": [
        "numeric_columns = X.columns\n",
        "\n",
        "feature_columns = []\n",
        "for feature_name in numeric_columns:\n",
        "  feature_columns.append(tf.feature_column.numeric_column(feature_name, dtype=tf.float32))\n",
        "\n",
        "print(feature_columns)"
      ]
    },
    {
      "cell_type": "code",
      "execution_count": null,
      "metadata": {
        "id": "FyExCs_8XWHk"
      },
      "outputs": [],
      "source": [
        "def make_input_fn(data_df, label_df,num_epochs=10,shuffle=True, batch_size=32):\n",
        "  def input_function():\n",
        "    ds = tf.data.Dataset.from_tensor_slices((dict(data_df), label_df))\n",
        "    if shuffle:\n",
        "      ds = ds.shuffle(1000)\n",
        "    ds = ds.batch(batch_size).repeat(num_epochs)\n",
        "    return ds\n",
        "  return input_function\n",
        "\n",
        "train_input_fn = make_input_fn(X_train,y_train)\n",
        "eval_input_fn = make_input_fn(X_test, y_test, num_epochs=1, shuffle=False)"
      ]
    },
    {
      "cell_type": "code",
      "execution_count": null,
      "metadata": {
        "colab": {
          "base_uri": "https://localhost:8080/"
        },
        "id": "lcZz7XHuYX1L",
        "outputId": "a29bcb26-e7fc-4ef4-b6bf-fd316566992d"
      },
      "outputs": [
        {
          "name": "stderr",
          "output_type": "stream",
          "text": [
            "WARNING:tensorflow:Using temporary folder as model directory: /tmp/tmppriek1gc\n"
          ]
        }
      ],
      "source": [
        "linear_est = tf.estimator.LinearRegressor(feature_columns=feature_columns)"
      ]
    },
    {
      "cell_type": "code",
      "execution_count": null,
      "metadata": {
        "colab": {
          "base_uri": "https://localhost:8080/"
        },
        "id": "fnciET3_Y4zA",
        "outputId": "58703edc-403d-4857-b08d-966c5b72c963"
      },
      "outputs": [
        {
          "name": "stdout",
          "output_type": "stream",
          "text": [
            "{'average_loss': 0.008971088, 'label/mean': 0.71839994, 'loss': 0.008971088, 'prediction/mean': 0.70319664, 'global_step': 150}\n"
          ]
        }
      ],
      "source": [
        "linear_est.train(train_input_fn)\n",
        "result = linear_est.evaluate(eval_input_fn)\n",
        "\n",
        "print(result)"
      ]
    },
    {
      "cell_type": "code",
      "execution_count": null,
      "metadata": {
        "colab": {
          "base_uri": "https://localhost:8080/"
        },
        "id": "VD91bQ7fZpa0",
        "outputId": "1a4cf2c8-4c90-49b1-8158-562184cc0276"
      },
      "outputs": [
        {
          "name": "stdout",
          "output_type": "stream",
          "text": [
            "Serial No.             1.00\n",
            "GRE Score            337.00\n",
            "TOEFL Score          118.00\n",
            "University Rating      4.00\n",
            "SOP                    4.50\n",
            "LOR                    4.50\n",
            "CGPA                   9.65\n",
            "Research               1.00\n",
            "Chance of Admit        0.92\n",
            "Name: 0, dtype: float64\n",
            "[0.66140234]\n",
            "-------------------------------\n",
            "Serial No.             2.00\n",
            "GRE Score            324.00\n",
            "TOEFL Score          107.00\n",
            "University Rating      4.00\n",
            "SOP                    4.00\n",
            "LOR                    4.50\n",
            "CGPA                   8.87\n",
            "Research               1.00\n",
            "Chance of Admit        0.76\n",
            "Name: 1, dtype: float64\n",
            "[0.6979179]\n",
            "-------------------------------\n",
            "Serial No.             3.00\n",
            "GRE Score            316.00\n",
            "TOEFL Score          104.00\n",
            "University Rating      3.00\n",
            "SOP                    3.00\n",
            "LOR                    3.50\n",
            "CGPA                   8.00\n",
            "Research               1.00\n",
            "Chance of Admit        0.72\n",
            "Name: 2, dtype: float64\n",
            "[0.66196084]\n",
            "-------------------------------\n",
            "Serial No.             4.00\n",
            "GRE Score            322.00\n",
            "TOEFL Score          110.00\n",
            "University Rating      3.00\n",
            "SOP                    3.50\n",
            "LOR                    2.50\n",
            "CGPA                   8.67\n",
            "Research               1.00\n",
            "Chance of Admit        0.80\n",
            "Name: 3, dtype: float64\n",
            "[0.6966081]\n",
            "-------------------------------\n",
            "Serial No.             5.00\n",
            "GRE Score            314.00\n",
            "TOEFL Score          103.00\n",
            "University Rating      2.00\n",
            "SOP                    2.00\n",
            "LOR                    3.00\n",
            "CGPA                   8.21\n",
            "Research               0.00\n",
            "Chance of Admit        0.65\n",
            "Name: 4, dtype: float64\n",
            "[0.68236035]\n",
            "-------------------------------\n",
            "Serial No.             6.00\n",
            "GRE Score            330.00\n",
            "TOEFL Score          115.00\n",
            "University Rating      5.00\n",
            "SOP                    4.50\n",
            "LOR                    3.00\n",
            "CGPA                   9.34\n",
            "Research               1.00\n",
            "Chance of Admit        0.90\n",
            "Name: 5, dtype: float64\n",
            "[0.6723943]\n",
            "-------------------------------\n",
            "Serial No.             7.00\n",
            "GRE Score            321.00\n",
            "TOEFL Score          109.00\n",
            "University Rating      3.00\n",
            "SOP                    3.00\n",
            "LOR                    4.00\n",
            "CGPA                   8.20\n",
            "Research               1.00\n",
            "Chance of Admit        0.75\n",
            "Name: 6, dtype: float64\n",
            "[0.6919336]\n",
            "-------------------------------\n",
            "Serial No.             8.00\n",
            "GRE Score            308.00\n",
            "TOEFL Score          101.00\n",
            "University Rating      2.00\n",
            "SOP                    3.00\n",
            "LOR                    4.00\n",
            "CGPA                   7.90\n",
            "Research               0.00\n",
            "Chance of Admit        0.68\n",
            "Name: 7, dtype: float64\n",
            "[0.7047894]\n",
            "-------------------------------\n",
            "Serial No.             9.0\n",
            "GRE Score            302.0\n",
            "TOEFL Score          102.0\n",
            "University Rating      1.0\n",
            "SOP                    2.0\n",
            "LOR                    1.5\n",
            "CGPA                   8.0\n",
            "Research               0.0\n",
            "Chance of Admit        0.5\n",
            "Name: 8, dtype: float64\n",
            "[0.67066705]\n",
            "-------------------------------\n",
            "Serial No.            10.00\n",
            "GRE Score            323.00\n",
            "TOEFL Score          108.00\n",
            "University Rating      3.00\n",
            "SOP                    3.50\n",
            "LOR                    3.00\n",
            "CGPA                   8.60\n",
            "Research               0.00\n",
            "Chance of Admit        0.45\n",
            "Name: 9, dtype: float64\n",
            "[0.7498255]\n",
            "-------------------------------\n",
            "Serial No.            11.00\n",
            "GRE Score            325.00\n",
            "TOEFL Score          106.00\n",
            "University Rating      3.00\n",
            "SOP                    3.50\n",
            "LOR                    4.00\n",
            "CGPA                   8.40\n",
            "Research               1.00\n",
            "Chance of Admit        0.52\n",
            "Name: 10, dtype: float64\n",
            "[0.7386312]\n",
            "-------------------------------\n",
            "Serial No.            12.00\n",
            "GRE Score            327.00\n",
            "TOEFL Score          111.00\n",
            "University Rating      4.00\n",
            "SOP                    4.00\n",
            "LOR                    4.50\n",
            "CGPA                   9.00\n",
            "Research               1.00\n",
            "Chance of Admit        0.84\n",
            "Name: 11, dtype: float64\n",
            "[0.6693803]\n",
            "-------------------------------\n",
            "Serial No.            13.00\n",
            "GRE Score            328.00\n",
            "TOEFL Score          112.00\n",
            "University Rating      4.00\n",
            "SOP                    4.00\n",
            "LOR                    4.50\n",
            "CGPA                   9.10\n",
            "Research               1.00\n",
            "Chance of Admit        0.78\n",
            "Name: 12, dtype: float64\n",
            "[0.71672374]\n",
            "-------------------------------\n",
            "Serial No.            14.00\n",
            "GRE Score            307.00\n",
            "TOEFL Score          109.00\n",
            "University Rating      3.00\n",
            "SOP                    4.00\n",
            "LOR                    3.00\n",
            "CGPA                   8.00\n",
            "Research               1.00\n",
            "Chance of Admit        0.62\n",
            "Name: 13, dtype: float64\n",
            "[0.6557371]\n",
            "-------------------------------\n",
            "Serial No.            15.00\n",
            "GRE Score            311.00\n",
            "TOEFL Score          104.00\n",
            "University Rating      3.00\n",
            "SOP                    3.50\n",
            "LOR                    2.00\n",
            "CGPA                   8.20\n",
            "Research               1.00\n",
            "Chance of Admit        0.61\n",
            "Name: 14, dtype: float64\n",
            "[0.6690377]\n",
            "-------------------------------\n",
            "Serial No.            16.00\n",
            "GRE Score            314.00\n",
            "TOEFL Score          105.00\n",
            "University Rating      3.00\n",
            "SOP                    3.50\n",
            "LOR                    2.50\n",
            "CGPA                   8.30\n",
            "Research               0.00\n",
            "Chance of Admit        0.54\n",
            "Name: 15, dtype: float64\n",
            "[0.75418824]\n",
            "-------------------------------\n",
            "Serial No.            17.00\n",
            "GRE Score            317.00\n",
            "TOEFL Score          107.00\n",
            "University Rating      3.00\n",
            "SOP                    4.00\n",
            "LOR                    3.00\n",
            "CGPA                   8.70\n",
            "Research               0.00\n",
            "Chance of Admit        0.66\n",
            "Name: 16, dtype: float64\n",
            "[0.7562017]\n",
            "-------------------------------\n",
            "Serial No.            18.00\n",
            "GRE Score            319.00\n",
            "TOEFL Score          106.00\n",
            "University Rating      3.00\n",
            "SOP                    4.00\n",
            "LOR                    3.00\n",
            "CGPA                   8.00\n",
            "Research               1.00\n",
            "Chance of Admit        0.65\n",
            "Name: 17, dtype: float64\n",
            "[0.7503653]\n",
            "-------------------------------\n",
            "Serial No.            19.00\n",
            "GRE Score            318.00\n",
            "TOEFL Score          110.00\n",
            "University Rating      3.00\n",
            "SOP                    4.00\n",
            "LOR                    3.00\n",
            "CGPA                   8.80\n",
            "Research               0.00\n",
            "Chance of Admit        0.63\n",
            "Name: 18, dtype: float64\n",
            "[0.7635768]\n",
            "-------------------------------\n",
            "Serial No.            20.00\n",
            "GRE Score            303.00\n",
            "TOEFL Score          102.00\n",
            "University Rating      3.00\n",
            "SOP                    3.50\n",
            "LOR                    3.00\n",
            "CGPA                   8.50\n",
            "Research               0.00\n",
            "Chance of Admit        0.62\n",
            "Name: 19, dtype: float64\n",
            "[0.75371575]\n",
            "-------------------------------\n",
            "Serial No.            21.00\n",
            "GRE Score            312.00\n",
            "TOEFL Score          107.00\n",
            "University Rating      3.00\n",
            "SOP                    3.00\n",
            "LOR                    2.00\n",
            "CGPA                   7.90\n",
            "Research               1.00\n",
            "Chance of Admit        0.64\n",
            "Name: 20, dtype: float64\n",
            "[0.6740428]\n",
            "-------------------------------\n",
            "Serial No.            22.0\n",
            "GRE Score            325.0\n",
            "TOEFL Score          114.0\n",
            "University Rating      4.0\n",
            "SOP                    3.0\n",
            "LOR                    2.0\n",
            "CGPA                   8.4\n",
            "Research               0.0\n",
            "Chance of Admit        0.7\n",
            "Name: 21, dtype: float64\n",
            "[0.6983391]\n",
            "-------------------------------\n",
            "Serial No.            23.00\n",
            "GRE Score            328.00\n",
            "TOEFL Score          116.00\n",
            "University Rating      5.00\n",
            "SOP                    5.00\n",
            "LOR                    5.00\n",
            "CGPA                   9.50\n",
            "Research               1.00\n",
            "Chance of Admit        0.94\n",
            "Name: 22, dtype: float64\n",
            "[0.67249095]\n",
            "-------------------------------\n",
            "Serial No.            24.00\n",
            "GRE Score            334.00\n",
            "TOEFL Score          119.00\n",
            "University Rating      5.00\n",
            "SOP                    5.00\n",
            "LOR                    4.50\n",
            "CGPA                   9.70\n",
            "Research               1.00\n",
            "Chance of Admit        0.95\n",
            "Name: 23, dtype: float64\n",
            "[0.6541808]\n",
            "-------------------------------\n",
            "Serial No.            25.00\n",
            "GRE Score            336.00\n",
            "TOEFL Score          119.00\n",
            "University Rating      5.00\n",
            "SOP                    4.00\n",
            "LOR                    3.50\n",
            "CGPA                   9.80\n",
            "Research               1.00\n",
            "Chance of Admit        0.97\n",
            "Name: 24, dtype: float64\n",
            "[0.76344544]\n",
            "-------------------------------\n"
          ]
        }
      ],
      "source": [
        "pred_dicts = list(linear_est.predict(eval_input_fn))\n",
        "\n",
        "for i in range(len(pred_dicts)):\n",
        "  print(df.iloc[i])\n",
        "  print(pred_dicts[i]['predictions'])\n",
        "  print('-------------------------------')\n"
      ]
    },
    {
      "cell_type": "markdown",
      "metadata": {
        "id": "nTRt7pbccePj"
      },
      "source": [
        "\n",
        "**Example 2**\n",
        "\n",
        "Dataset: Auto-mpg dataset.\n",
        "\n",
        "\n",
        "Goal: Predict fuel prices\n",
        "\n"
      ]
    },
    {
      "cell_type": "code",
      "execution_count": 59,
      "metadata": {
        "colab": {
          "base_uri": "https://localhost:8080/"
        },
        "id": "1tqSL6avdDnW",
        "outputId": "293a9e77-2193-42b0-88dc-a240606a1997"
      },
      "outputs": [
        {
          "output_type": "stream",
          "name": "stdout",
          "text": [
            "2.12.0\n"
          ]
        }
      ],
      "source": [
        "import seaborn as sns\n",
        "from tensorflow import keras\n",
        "from tensorflow.keras import layers\n",
        "\n",
        "print(tf.__version__)"
      ]
    },
    {
      "cell_type": "code",
      "execution_count": 77,
      "metadata": {
        "id": "bLsB3XBJdMmo"
      },
      "outputs": [],
      "source": [
        "url = 'http://archive.ics.uci.edu/ml/machine-learning-databases/auto-mpg/auto-mpg.data'\n",
        "column_names = ['MPG', 'Cylinders', 'Displacement', 'Horsepower', 'Weight',\n",
        "                'Acceleration', 'Model Year', 'Origin']\n",
        "\n",
        "raw_dataset = pd.read_csv(url, names=column_names,\n",
        "                          na_values='?', comment='\\t',\n",
        "                          sep=' ', skipinitialspace=True)"
      ]
    },
    {
      "cell_type": "code",
      "execution_count": 78,
      "metadata": {
        "id": "9lHOB8bSd8L0",
        "colab": {
          "base_uri": "https://localhost:8080/",
          "height": 206
        },
        "outputId": "10c908bb-ca1f-4ca8-82c7-18ac25feee8e"
      },
      "outputs": [
        {
          "output_type": "execute_result",
          "data": {
            "text/plain": [
              "    MPG  Cylinders  Displacement  Horsepower  Weight  Acceleration  \\\n",
              "0  18.0          8         307.0       130.0  3504.0          12.0   \n",
              "1  15.0          8         350.0       165.0  3693.0          11.5   \n",
              "2  18.0          8         318.0       150.0  3436.0          11.0   \n",
              "3  16.0          8         304.0       150.0  3433.0          12.0   \n",
              "4  17.0          8         302.0       140.0  3449.0          10.5   \n",
              "\n",
              "   Model Year  Origin  \n",
              "0          70       1  \n",
              "1          70       1  \n",
              "2          70       1  \n",
              "3          70       1  \n",
              "4          70       1  "
            ],
            "text/html": [
              "\n",
              "  <div id=\"df-07489550-5189-492c-872b-1f9b4391586b\">\n",
              "    <div class=\"colab-df-container\">\n",
              "      <div>\n",
              "<style scoped>\n",
              "    .dataframe tbody tr th:only-of-type {\n",
              "        vertical-align: middle;\n",
              "    }\n",
              "\n",
              "    .dataframe tbody tr th {\n",
              "        vertical-align: top;\n",
              "    }\n",
              "\n",
              "    .dataframe thead th {\n",
              "        text-align: right;\n",
              "    }\n",
              "</style>\n",
              "<table border=\"1\" class=\"dataframe\">\n",
              "  <thead>\n",
              "    <tr style=\"text-align: right;\">\n",
              "      <th></th>\n",
              "      <th>MPG</th>\n",
              "      <th>Cylinders</th>\n",
              "      <th>Displacement</th>\n",
              "      <th>Horsepower</th>\n",
              "      <th>Weight</th>\n",
              "      <th>Acceleration</th>\n",
              "      <th>Model Year</th>\n",
              "      <th>Origin</th>\n",
              "    </tr>\n",
              "  </thead>\n",
              "  <tbody>\n",
              "    <tr>\n",
              "      <th>0</th>\n",
              "      <td>18.0</td>\n",
              "      <td>8</td>\n",
              "      <td>307.0</td>\n",
              "      <td>130.0</td>\n",
              "      <td>3504.0</td>\n",
              "      <td>12.0</td>\n",
              "      <td>70</td>\n",
              "      <td>1</td>\n",
              "    </tr>\n",
              "    <tr>\n",
              "      <th>1</th>\n",
              "      <td>15.0</td>\n",
              "      <td>8</td>\n",
              "      <td>350.0</td>\n",
              "      <td>165.0</td>\n",
              "      <td>3693.0</td>\n",
              "      <td>11.5</td>\n",
              "      <td>70</td>\n",
              "      <td>1</td>\n",
              "    </tr>\n",
              "    <tr>\n",
              "      <th>2</th>\n",
              "      <td>18.0</td>\n",
              "      <td>8</td>\n",
              "      <td>318.0</td>\n",
              "      <td>150.0</td>\n",
              "      <td>3436.0</td>\n",
              "      <td>11.0</td>\n",
              "      <td>70</td>\n",
              "      <td>1</td>\n",
              "    </tr>\n",
              "    <tr>\n",
              "      <th>3</th>\n",
              "      <td>16.0</td>\n",
              "      <td>8</td>\n",
              "      <td>304.0</td>\n",
              "      <td>150.0</td>\n",
              "      <td>3433.0</td>\n",
              "      <td>12.0</td>\n",
              "      <td>70</td>\n",
              "      <td>1</td>\n",
              "    </tr>\n",
              "    <tr>\n",
              "      <th>4</th>\n",
              "      <td>17.0</td>\n",
              "      <td>8</td>\n",
              "      <td>302.0</td>\n",
              "      <td>140.0</td>\n",
              "      <td>3449.0</td>\n",
              "      <td>10.5</td>\n",
              "      <td>70</td>\n",
              "      <td>1</td>\n",
              "    </tr>\n",
              "  </tbody>\n",
              "</table>\n",
              "</div>\n",
              "      <button class=\"colab-df-convert\" onclick=\"convertToInteractive('df-07489550-5189-492c-872b-1f9b4391586b')\"\n",
              "              title=\"Convert this dataframe to an interactive table.\"\n",
              "              style=\"display:none;\">\n",
              "        \n",
              "  <svg xmlns=\"http://www.w3.org/2000/svg\" height=\"24px\"viewBox=\"0 0 24 24\"\n",
              "       width=\"24px\">\n",
              "    <path d=\"M0 0h24v24H0V0z\" fill=\"none\"/>\n",
              "    <path d=\"M18.56 5.44l.94 2.06.94-2.06 2.06-.94-2.06-.94-.94-2.06-.94 2.06-2.06.94zm-11 1L8.5 8.5l.94-2.06 2.06-.94-2.06-.94L8.5 2.5l-.94 2.06-2.06.94zm10 10l.94 2.06.94-2.06 2.06-.94-2.06-.94-.94-2.06-.94 2.06-2.06.94z\"/><path d=\"M17.41 7.96l-1.37-1.37c-.4-.4-.92-.59-1.43-.59-.52 0-1.04.2-1.43.59L10.3 9.45l-7.72 7.72c-.78.78-.78 2.05 0 2.83L4 21.41c.39.39.9.59 1.41.59.51 0 1.02-.2 1.41-.59l7.78-7.78 2.81-2.81c.8-.78.8-2.07 0-2.86zM5.41 20L4 18.59l7.72-7.72 1.47 1.35L5.41 20z\"/>\n",
              "  </svg>\n",
              "      </button>\n",
              "      \n",
              "  <style>\n",
              "    .colab-df-container {\n",
              "      display:flex;\n",
              "      flex-wrap:wrap;\n",
              "      gap: 12px;\n",
              "    }\n",
              "\n",
              "    .colab-df-convert {\n",
              "      background-color: #E8F0FE;\n",
              "      border: none;\n",
              "      border-radius: 50%;\n",
              "      cursor: pointer;\n",
              "      display: none;\n",
              "      fill: #1967D2;\n",
              "      height: 32px;\n",
              "      padding: 0 0 0 0;\n",
              "      width: 32px;\n",
              "    }\n",
              "\n",
              "    .colab-df-convert:hover {\n",
              "      background-color: #E2EBFA;\n",
              "      box-shadow: 0px 1px 2px rgba(60, 64, 67, 0.3), 0px 1px 3px 1px rgba(60, 64, 67, 0.15);\n",
              "      fill: #174EA6;\n",
              "    }\n",
              "\n",
              "    [theme=dark] .colab-df-convert {\n",
              "      background-color: #3B4455;\n",
              "      fill: #D2E3FC;\n",
              "    }\n",
              "\n",
              "    [theme=dark] .colab-df-convert:hover {\n",
              "      background-color: #434B5C;\n",
              "      box-shadow: 0px 1px 3px 1px rgba(0, 0, 0, 0.15);\n",
              "      filter: drop-shadow(0px 1px 2px rgba(0, 0, 0, 0.3));\n",
              "      fill: #FFFFFF;\n",
              "    }\n",
              "  </style>\n",
              "\n",
              "      <script>\n",
              "        const buttonEl =\n",
              "          document.querySelector('#df-07489550-5189-492c-872b-1f9b4391586b button.colab-df-convert');\n",
              "        buttonEl.style.display =\n",
              "          google.colab.kernel.accessAllowed ? 'block' : 'none';\n",
              "\n",
              "        async function convertToInteractive(key) {\n",
              "          const element = document.querySelector('#df-07489550-5189-492c-872b-1f9b4391586b');\n",
              "          const dataTable =\n",
              "            await google.colab.kernel.invokeFunction('convertToInteractive',\n",
              "                                                     [key], {});\n",
              "          if (!dataTable) return;\n",
              "\n",
              "          const docLinkHtml = 'Like what you see? Visit the ' +\n",
              "            '<a target=\"_blank\" href=https://colab.research.google.com/notebooks/data_table.ipynb>data table notebook</a>'\n",
              "            + ' to learn more about interactive tables.';\n",
              "          element.innerHTML = '';\n",
              "          dataTable['output_type'] = 'display_data';\n",
              "          await google.colab.output.renderOutput(dataTable, element);\n",
              "          const docLink = document.createElement('div');\n",
              "          docLink.innerHTML = docLinkHtml;\n",
              "          element.appendChild(docLink);\n",
              "        }\n",
              "      </script>\n",
              "    </div>\n",
              "  </div>\n",
              "  "
            ]
          },
          "metadata": {},
          "execution_count": 78
        }
      ],
      "source": [
        "raw_dataset.head()"
      ]
    },
    {
      "cell_type": "code",
      "source": [
        "raw_dataset.info()"
      ],
      "metadata": {
        "colab": {
          "base_uri": "https://localhost:8080/"
        },
        "id": "GRZ8LGzzeXau",
        "outputId": "a9a76842-7d6e-47df-dead-47cfca86bd54"
      },
      "execution_count": 79,
      "outputs": [
        {
          "output_type": "stream",
          "name": "stdout",
          "text": [
            "<class 'pandas.core.frame.DataFrame'>\n",
            "RangeIndex: 398 entries, 0 to 397\n",
            "Data columns (total 8 columns):\n",
            " #   Column        Non-Null Count  Dtype  \n",
            "---  ------        --------------  -----  \n",
            " 0   MPG           398 non-null    float64\n",
            " 1   Cylinders     398 non-null    int64  \n",
            " 2   Displacement  398 non-null    float64\n",
            " 3   Horsepower    392 non-null    float64\n",
            " 4   Weight        398 non-null    float64\n",
            " 5   Acceleration  398 non-null    float64\n",
            " 6   Model Year    398 non-null    int64  \n",
            " 7   Origin        398 non-null    int64  \n",
            "dtypes: float64(5), int64(3)\n",
            "memory usage: 25.0 KB\n"
          ]
        }
      ]
    },
    {
      "cell_type": "markdown",
      "source": [
        "Data Cleaning"
      ],
      "metadata": {
        "id": "fqiDywXze-df"
      }
    },
    {
      "cell_type": "code",
      "source": [
        "df = raw_dataset.copy()\n",
        "df.tail()"
      ],
      "metadata": {
        "colab": {
          "base_uri": "https://localhost:8080/",
          "height": 206
        },
        "id": "I5nq8Cn-e_q-",
        "outputId": "cacf7de9-1d38-4e4a-9c75-010c0684c536"
      },
      "execution_count": 90,
      "outputs": [
        {
          "output_type": "execute_result",
          "data": {
            "text/plain": [
              "      MPG  Cylinders  Displacement  Horsepower  Weight  Acceleration  \\\n",
              "393  27.0          4         140.0        86.0  2790.0          15.6   \n",
              "394  44.0          4          97.0        52.0  2130.0          24.6   \n",
              "395  32.0          4         135.0        84.0  2295.0          11.6   \n",
              "396  28.0          4         120.0        79.0  2625.0          18.6   \n",
              "397  31.0          4         119.0        82.0  2720.0          19.4   \n",
              "\n",
              "     Model Year  Origin  \n",
              "393          82       1  \n",
              "394          82       2  \n",
              "395          82       1  \n",
              "396          82       1  \n",
              "397          82       1  "
            ],
            "text/html": [
              "\n",
              "  <div id=\"df-e8a3754e-14ba-420d-95d6-084a208aeed4\">\n",
              "    <div class=\"colab-df-container\">\n",
              "      <div>\n",
              "<style scoped>\n",
              "    .dataframe tbody tr th:only-of-type {\n",
              "        vertical-align: middle;\n",
              "    }\n",
              "\n",
              "    .dataframe tbody tr th {\n",
              "        vertical-align: top;\n",
              "    }\n",
              "\n",
              "    .dataframe thead th {\n",
              "        text-align: right;\n",
              "    }\n",
              "</style>\n",
              "<table border=\"1\" class=\"dataframe\">\n",
              "  <thead>\n",
              "    <tr style=\"text-align: right;\">\n",
              "      <th></th>\n",
              "      <th>MPG</th>\n",
              "      <th>Cylinders</th>\n",
              "      <th>Displacement</th>\n",
              "      <th>Horsepower</th>\n",
              "      <th>Weight</th>\n",
              "      <th>Acceleration</th>\n",
              "      <th>Model Year</th>\n",
              "      <th>Origin</th>\n",
              "    </tr>\n",
              "  </thead>\n",
              "  <tbody>\n",
              "    <tr>\n",
              "      <th>393</th>\n",
              "      <td>27.0</td>\n",
              "      <td>4</td>\n",
              "      <td>140.0</td>\n",
              "      <td>86.0</td>\n",
              "      <td>2790.0</td>\n",
              "      <td>15.6</td>\n",
              "      <td>82</td>\n",
              "      <td>1</td>\n",
              "    </tr>\n",
              "    <tr>\n",
              "      <th>394</th>\n",
              "      <td>44.0</td>\n",
              "      <td>4</td>\n",
              "      <td>97.0</td>\n",
              "      <td>52.0</td>\n",
              "      <td>2130.0</td>\n",
              "      <td>24.6</td>\n",
              "      <td>82</td>\n",
              "      <td>2</td>\n",
              "    </tr>\n",
              "    <tr>\n",
              "      <th>395</th>\n",
              "      <td>32.0</td>\n",
              "      <td>4</td>\n",
              "      <td>135.0</td>\n",
              "      <td>84.0</td>\n",
              "      <td>2295.0</td>\n",
              "      <td>11.6</td>\n",
              "      <td>82</td>\n",
              "      <td>1</td>\n",
              "    </tr>\n",
              "    <tr>\n",
              "      <th>396</th>\n",
              "      <td>28.0</td>\n",
              "      <td>4</td>\n",
              "      <td>120.0</td>\n",
              "      <td>79.0</td>\n",
              "      <td>2625.0</td>\n",
              "      <td>18.6</td>\n",
              "      <td>82</td>\n",
              "      <td>1</td>\n",
              "    </tr>\n",
              "    <tr>\n",
              "      <th>397</th>\n",
              "      <td>31.0</td>\n",
              "      <td>4</td>\n",
              "      <td>119.0</td>\n",
              "      <td>82.0</td>\n",
              "      <td>2720.0</td>\n",
              "      <td>19.4</td>\n",
              "      <td>82</td>\n",
              "      <td>1</td>\n",
              "    </tr>\n",
              "  </tbody>\n",
              "</table>\n",
              "</div>\n",
              "      <button class=\"colab-df-convert\" onclick=\"convertToInteractive('df-e8a3754e-14ba-420d-95d6-084a208aeed4')\"\n",
              "              title=\"Convert this dataframe to an interactive table.\"\n",
              "              style=\"display:none;\">\n",
              "        \n",
              "  <svg xmlns=\"http://www.w3.org/2000/svg\" height=\"24px\"viewBox=\"0 0 24 24\"\n",
              "       width=\"24px\">\n",
              "    <path d=\"M0 0h24v24H0V0z\" fill=\"none\"/>\n",
              "    <path d=\"M18.56 5.44l.94 2.06.94-2.06 2.06-.94-2.06-.94-.94-2.06-.94 2.06-2.06.94zm-11 1L8.5 8.5l.94-2.06 2.06-.94-2.06-.94L8.5 2.5l-.94 2.06-2.06.94zm10 10l.94 2.06.94-2.06 2.06-.94-2.06-.94-.94-2.06-.94 2.06-2.06.94z\"/><path d=\"M17.41 7.96l-1.37-1.37c-.4-.4-.92-.59-1.43-.59-.52 0-1.04.2-1.43.59L10.3 9.45l-7.72 7.72c-.78.78-.78 2.05 0 2.83L4 21.41c.39.39.9.59 1.41.59.51 0 1.02-.2 1.41-.59l7.78-7.78 2.81-2.81c.8-.78.8-2.07 0-2.86zM5.41 20L4 18.59l7.72-7.72 1.47 1.35L5.41 20z\"/>\n",
              "  </svg>\n",
              "      </button>\n",
              "      \n",
              "  <style>\n",
              "    .colab-df-container {\n",
              "      display:flex;\n",
              "      flex-wrap:wrap;\n",
              "      gap: 12px;\n",
              "    }\n",
              "\n",
              "    .colab-df-convert {\n",
              "      background-color: #E8F0FE;\n",
              "      border: none;\n",
              "      border-radius: 50%;\n",
              "      cursor: pointer;\n",
              "      display: none;\n",
              "      fill: #1967D2;\n",
              "      height: 32px;\n",
              "      padding: 0 0 0 0;\n",
              "      width: 32px;\n",
              "    }\n",
              "\n",
              "    .colab-df-convert:hover {\n",
              "      background-color: #E2EBFA;\n",
              "      box-shadow: 0px 1px 2px rgba(60, 64, 67, 0.3), 0px 1px 3px 1px rgba(60, 64, 67, 0.15);\n",
              "      fill: #174EA6;\n",
              "    }\n",
              "\n",
              "    [theme=dark] .colab-df-convert {\n",
              "      background-color: #3B4455;\n",
              "      fill: #D2E3FC;\n",
              "    }\n",
              "\n",
              "    [theme=dark] .colab-df-convert:hover {\n",
              "      background-color: #434B5C;\n",
              "      box-shadow: 0px 1px 3px 1px rgba(0, 0, 0, 0.15);\n",
              "      filter: drop-shadow(0px 1px 2px rgba(0, 0, 0, 0.3));\n",
              "      fill: #FFFFFF;\n",
              "    }\n",
              "  </style>\n",
              "\n",
              "      <script>\n",
              "        const buttonEl =\n",
              "          document.querySelector('#df-e8a3754e-14ba-420d-95d6-084a208aeed4 button.colab-df-convert');\n",
              "        buttonEl.style.display =\n",
              "          google.colab.kernel.accessAllowed ? 'block' : 'none';\n",
              "\n",
              "        async function convertToInteractive(key) {\n",
              "          const element = document.querySelector('#df-e8a3754e-14ba-420d-95d6-084a208aeed4');\n",
              "          const dataTable =\n",
              "            await google.colab.kernel.invokeFunction('convertToInteractive',\n",
              "                                                     [key], {});\n",
              "          if (!dataTable) return;\n",
              "\n",
              "          const docLinkHtml = 'Like what you see? Visit the ' +\n",
              "            '<a target=\"_blank\" href=https://colab.research.google.com/notebooks/data_table.ipynb>data table notebook</a>'\n",
              "            + ' to learn more about interactive tables.';\n",
              "          element.innerHTML = '';\n",
              "          dataTable['output_type'] = 'display_data';\n",
              "          await google.colab.output.renderOutput(dataTable, element);\n",
              "          const docLink = document.createElement('div');\n",
              "          docLink.innerHTML = docLinkHtml;\n",
              "          element.appendChild(docLink);\n",
              "        }\n",
              "      </script>\n",
              "    </div>\n",
              "  </div>\n",
              "  "
            ]
          },
          "metadata": {},
          "execution_count": 90
        }
      ]
    },
    {
      "cell_type": "code",
      "source": [
        "df.isna().sum()\n",
        "df = df.dropna()"
      ],
      "metadata": {
        "id": "ZJ5UwWQ_fG0Z"
      },
      "execution_count": 91,
      "outputs": []
    },
    {
      "cell_type": "code",
      "source": [
        "df['Origin'] = df['Origin'].map({1:'USA',2:'Europe',3:'Japan'})\n",
        "df.head()\n",
        "\n"
      ],
      "metadata": {
        "colab": {
          "base_uri": "https://localhost:8080/",
          "height": 206
        },
        "id": "DBmUGQThfczE",
        "outputId": "38d13f85-9ca4-474e-f640-3f52a4b7f531"
      },
      "execution_count": 92,
      "outputs": [
        {
          "output_type": "execute_result",
          "data": {
            "text/plain": [
              "    MPG  Cylinders  Displacement  Horsepower  Weight  Acceleration  \\\n",
              "0  18.0          8         307.0       130.0  3504.0          12.0   \n",
              "1  15.0          8         350.0       165.0  3693.0          11.5   \n",
              "2  18.0          8         318.0       150.0  3436.0          11.0   \n",
              "3  16.0          8         304.0       150.0  3433.0          12.0   \n",
              "4  17.0          8         302.0       140.0  3449.0          10.5   \n",
              "\n",
              "   Model Year Origin  \n",
              "0          70    USA  \n",
              "1          70    USA  \n",
              "2          70    USA  \n",
              "3          70    USA  \n",
              "4          70    USA  "
            ],
            "text/html": [
              "\n",
              "  <div id=\"df-1833cd45-7622-4072-81c8-67f1e540d7ca\">\n",
              "    <div class=\"colab-df-container\">\n",
              "      <div>\n",
              "<style scoped>\n",
              "    .dataframe tbody tr th:only-of-type {\n",
              "        vertical-align: middle;\n",
              "    }\n",
              "\n",
              "    .dataframe tbody tr th {\n",
              "        vertical-align: top;\n",
              "    }\n",
              "\n",
              "    .dataframe thead th {\n",
              "        text-align: right;\n",
              "    }\n",
              "</style>\n",
              "<table border=\"1\" class=\"dataframe\">\n",
              "  <thead>\n",
              "    <tr style=\"text-align: right;\">\n",
              "      <th></th>\n",
              "      <th>MPG</th>\n",
              "      <th>Cylinders</th>\n",
              "      <th>Displacement</th>\n",
              "      <th>Horsepower</th>\n",
              "      <th>Weight</th>\n",
              "      <th>Acceleration</th>\n",
              "      <th>Model Year</th>\n",
              "      <th>Origin</th>\n",
              "    </tr>\n",
              "  </thead>\n",
              "  <tbody>\n",
              "    <tr>\n",
              "      <th>0</th>\n",
              "      <td>18.0</td>\n",
              "      <td>8</td>\n",
              "      <td>307.0</td>\n",
              "      <td>130.0</td>\n",
              "      <td>3504.0</td>\n",
              "      <td>12.0</td>\n",
              "      <td>70</td>\n",
              "      <td>USA</td>\n",
              "    </tr>\n",
              "    <tr>\n",
              "      <th>1</th>\n",
              "      <td>15.0</td>\n",
              "      <td>8</td>\n",
              "      <td>350.0</td>\n",
              "      <td>165.0</td>\n",
              "      <td>3693.0</td>\n",
              "      <td>11.5</td>\n",
              "      <td>70</td>\n",
              "      <td>USA</td>\n",
              "    </tr>\n",
              "    <tr>\n",
              "      <th>2</th>\n",
              "      <td>18.0</td>\n",
              "      <td>8</td>\n",
              "      <td>318.0</td>\n",
              "      <td>150.0</td>\n",
              "      <td>3436.0</td>\n",
              "      <td>11.0</td>\n",
              "      <td>70</td>\n",
              "      <td>USA</td>\n",
              "    </tr>\n",
              "    <tr>\n",
              "      <th>3</th>\n",
              "      <td>16.0</td>\n",
              "      <td>8</td>\n",
              "      <td>304.0</td>\n",
              "      <td>150.0</td>\n",
              "      <td>3433.0</td>\n",
              "      <td>12.0</td>\n",
              "      <td>70</td>\n",
              "      <td>USA</td>\n",
              "    </tr>\n",
              "    <tr>\n",
              "      <th>4</th>\n",
              "      <td>17.0</td>\n",
              "      <td>8</td>\n",
              "      <td>302.0</td>\n",
              "      <td>140.0</td>\n",
              "      <td>3449.0</td>\n",
              "      <td>10.5</td>\n",
              "      <td>70</td>\n",
              "      <td>USA</td>\n",
              "    </tr>\n",
              "  </tbody>\n",
              "</table>\n",
              "</div>\n",
              "      <button class=\"colab-df-convert\" onclick=\"convertToInteractive('df-1833cd45-7622-4072-81c8-67f1e540d7ca')\"\n",
              "              title=\"Convert this dataframe to an interactive table.\"\n",
              "              style=\"display:none;\">\n",
              "        \n",
              "  <svg xmlns=\"http://www.w3.org/2000/svg\" height=\"24px\"viewBox=\"0 0 24 24\"\n",
              "       width=\"24px\">\n",
              "    <path d=\"M0 0h24v24H0V0z\" fill=\"none\"/>\n",
              "    <path d=\"M18.56 5.44l.94 2.06.94-2.06 2.06-.94-2.06-.94-.94-2.06-.94 2.06-2.06.94zm-11 1L8.5 8.5l.94-2.06 2.06-.94-2.06-.94L8.5 2.5l-.94 2.06-2.06.94zm10 10l.94 2.06.94-2.06 2.06-.94-2.06-.94-.94-2.06-.94 2.06-2.06.94z\"/><path d=\"M17.41 7.96l-1.37-1.37c-.4-.4-.92-.59-1.43-.59-.52 0-1.04.2-1.43.59L10.3 9.45l-7.72 7.72c-.78.78-.78 2.05 0 2.83L4 21.41c.39.39.9.59 1.41.59.51 0 1.02-.2 1.41-.59l7.78-7.78 2.81-2.81c.8-.78.8-2.07 0-2.86zM5.41 20L4 18.59l7.72-7.72 1.47 1.35L5.41 20z\"/>\n",
              "  </svg>\n",
              "      </button>\n",
              "      \n",
              "  <style>\n",
              "    .colab-df-container {\n",
              "      display:flex;\n",
              "      flex-wrap:wrap;\n",
              "      gap: 12px;\n",
              "    }\n",
              "\n",
              "    .colab-df-convert {\n",
              "      background-color: #E8F0FE;\n",
              "      border: none;\n",
              "      border-radius: 50%;\n",
              "      cursor: pointer;\n",
              "      display: none;\n",
              "      fill: #1967D2;\n",
              "      height: 32px;\n",
              "      padding: 0 0 0 0;\n",
              "      width: 32px;\n",
              "    }\n",
              "\n",
              "    .colab-df-convert:hover {\n",
              "      background-color: #E2EBFA;\n",
              "      box-shadow: 0px 1px 2px rgba(60, 64, 67, 0.3), 0px 1px 3px 1px rgba(60, 64, 67, 0.15);\n",
              "      fill: #174EA6;\n",
              "    }\n",
              "\n",
              "    [theme=dark] .colab-df-convert {\n",
              "      background-color: #3B4455;\n",
              "      fill: #D2E3FC;\n",
              "    }\n",
              "\n",
              "    [theme=dark] .colab-df-convert:hover {\n",
              "      background-color: #434B5C;\n",
              "      box-shadow: 0px 1px 3px 1px rgba(0, 0, 0, 0.15);\n",
              "      filter: drop-shadow(0px 1px 2px rgba(0, 0, 0, 0.3));\n",
              "      fill: #FFFFFF;\n",
              "    }\n",
              "  </style>\n",
              "\n",
              "      <script>\n",
              "        const buttonEl =\n",
              "          document.querySelector('#df-1833cd45-7622-4072-81c8-67f1e540d7ca button.colab-df-convert');\n",
              "        buttonEl.style.display =\n",
              "          google.colab.kernel.accessAllowed ? 'block' : 'none';\n",
              "\n",
              "        async function convertToInteractive(key) {\n",
              "          const element = document.querySelector('#df-1833cd45-7622-4072-81c8-67f1e540d7ca');\n",
              "          const dataTable =\n",
              "            await google.colab.kernel.invokeFunction('convertToInteractive',\n",
              "                                                     [key], {});\n",
              "          if (!dataTable) return;\n",
              "\n",
              "          const docLinkHtml = 'Like what you see? Visit the ' +\n",
              "            '<a target=\"_blank\" href=https://colab.research.google.com/notebooks/data_table.ipynb>data table notebook</a>'\n",
              "            + ' to learn more about interactive tables.';\n",
              "          element.innerHTML = '';\n",
              "          dataTable['output_type'] = 'display_data';\n",
              "          await google.colab.output.renderOutput(dataTable, element);\n",
              "          const docLink = document.createElement('div');\n",
              "          docLink.innerHTML = docLinkHtml;\n",
              "          element.appendChild(docLink);\n",
              "        }\n",
              "      </script>\n",
              "    </div>\n",
              "  </div>\n",
              "  "
            ]
          },
          "metadata": {},
          "execution_count": 92
        }
      ]
    },
    {
      "cell_type": "code",
      "source": [
        "df = pd.get_dummies(df, columns=['Origin'], prefix='', prefix_sep='')\n"
      ],
      "metadata": {
        "id": "3Tzy6QPVgEi_"
      },
      "execution_count": 93,
      "outputs": []
    },
    {
      "cell_type": "code",
      "source": [
        "df.tail()"
      ],
      "metadata": {
        "colab": {
          "base_uri": "https://localhost:8080/",
          "height": 206
        },
        "id": "rZH724rjgXLs",
        "outputId": "72e098fb-069e-45eb-bf23-bfd07495beba"
      },
      "execution_count": 94,
      "outputs": [
        {
          "output_type": "execute_result",
          "data": {
            "text/plain": [
              "      MPG  Cylinders  Displacement  Horsepower  Weight  Acceleration  \\\n",
              "393  27.0          4         140.0        86.0  2790.0          15.6   \n",
              "394  44.0          4          97.0        52.0  2130.0          24.6   \n",
              "395  32.0          4         135.0        84.0  2295.0          11.6   \n",
              "396  28.0          4         120.0        79.0  2625.0          18.6   \n",
              "397  31.0          4         119.0        82.0  2720.0          19.4   \n",
              "\n",
              "     Model Year  Europe  Japan  USA  \n",
              "393          82       0      0    1  \n",
              "394          82       1      0    0  \n",
              "395          82       0      0    1  \n",
              "396          82       0      0    1  \n",
              "397          82       0      0    1  "
            ],
            "text/html": [
              "\n",
              "  <div id=\"df-04dfe00b-d07f-40e5-9f23-4476c3f31b38\">\n",
              "    <div class=\"colab-df-container\">\n",
              "      <div>\n",
              "<style scoped>\n",
              "    .dataframe tbody tr th:only-of-type {\n",
              "        vertical-align: middle;\n",
              "    }\n",
              "\n",
              "    .dataframe tbody tr th {\n",
              "        vertical-align: top;\n",
              "    }\n",
              "\n",
              "    .dataframe thead th {\n",
              "        text-align: right;\n",
              "    }\n",
              "</style>\n",
              "<table border=\"1\" class=\"dataframe\">\n",
              "  <thead>\n",
              "    <tr style=\"text-align: right;\">\n",
              "      <th></th>\n",
              "      <th>MPG</th>\n",
              "      <th>Cylinders</th>\n",
              "      <th>Displacement</th>\n",
              "      <th>Horsepower</th>\n",
              "      <th>Weight</th>\n",
              "      <th>Acceleration</th>\n",
              "      <th>Model Year</th>\n",
              "      <th>Europe</th>\n",
              "      <th>Japan</th>\n",
              "      <th>USA</th>\n",
              "    </tr>\n",
              "  </thead>\n",
              "  <tbody>\n",
              "    <tr>\n",
              "      <th>393</th>\n",
              "      <td>27.0</td>\n",
              "      <td>4</td>\n",
              "      <td>140.0</td>\n",
              "      <td>86.0</td>\n",
              "      <td>2790.0</td>\n",
              "      <td>15.6</td>\n",
              "      <td>82</td>\n",
              "      <td>0</td>\n",
              "      <td>0</td>\n",
              "      <td>1</td>\n",
              "    </tr>\n",
              "    <tr>\n",
              "      <th>394</th>\n",
              "      <td>44.0</td>\n",
              "      <td>4</td>\n",
              "      <td>97.0</td>\n",
              "      <td>52.0</td>\n",
              "      <td>2130.0</td>\n",
              "      <td>24.6</td>\n",
              "      <td>82</td>\n",
              "      <td>1</td>\n",
              "      <td>0</td>\n",
              "      <td>0</td>\n",
              "    </tr>\n",
              "    <tr>\n",
              "      <th>395</th>\n",
              "      <td>32.0</td>\n",
              "      <td>4</td>\n",
              "      <td>135.0</td>\n",
              "      <td>84.0</td>\n",
              "      <td>2295.0</td>\n",
              "      <td>11.6</td>\n",
              "      <td>82</td>\n",
              "      <td>0</td>\n",
              "      <td>0</td>\n",
              "      <td>1</td>\n",
              "    </tr>\n",
              "    <tr>\n",
              "      <th>396</th>\n",
              "      <td>28.0</td>\n",
              "      <td>4</td>\n",
              "      <td>120.0</td>\n",
              "      <td>79.0</td>\n",
              "      <td>2625.0</td>\n",
              "      <td>18.6</td>\n",
              "      <td>82</td>\n",
              "      <td>0</td>\n",
              "      <td>0</td>\n",
              "      <td>1</td>\n",
              "    </tr>\n",
              "    <tr>\n",
              "      <th>397</th>\n",
              "      <td>31.0</td>\n",
              "      <td>4</td>\n",
              "      <td>119.0</td>\n",
              "      <td>82.0</td>\n",
              "      <td>2720.0</td>\n",
              "      <td>19.4</td>\n",
              "      <td>82</td>\n",
              "      <td>0</td>\n",
              "      <td>0</td>\n",
              "      <td>1</td>\n",
              "    </tr>\n",
              "  </tbody>\n",
              "</table>\n",
              "</div>\n",
              "      <button class=\"colab-df-convert\" onclick=\"convertToInteractive('df-04dfe00b-d07f-40e5-9f23-4476c3f31b38')\"\n",
              "              title=\"Convert this dataframe to an interactive table.\"\n",
              "              style=\"display:none;\">\n",
              "        \n",
              "  <svg xmlns=\"http://www.w3.org/2000/svg\" height=\"24px\"viewBox=\"0 0 24 24\"\n",
              "       width=\"24px\">\n",
              "    <path d=\"M0 0h24v24H0V0z\" fill=\"none\"/>\n",
              "    <path d=\"M18.56 5.44l.94 2.06.94-2.06 2.06-.94-2.06-.94-.94-2.06-.94 2.06-2.06.94zm-11 1L8.5 8.5l.94-2.06 2.06-.94-2.06-.94L8.5 2.5l-.94 2.06-2.06.94zm10 10l.94 2.06.94-2.06 2.06-.94-2.06-.94-.94-2.06-.94 2.06-2.06.94z\"/><path d=\"M17.41 7.96l-1.37-1.37c-.4-.4-.92-.59-1.43-.59-.52 0-1.04.2-1.43.59L10.3 9.45l-7.72 7.72c-.78.78-.78 2.05 0 2.83L4 21.41c.39.39.9.59 1.41.59.51 0 1.02-.2 1.41-.59l7.78-7.78 2.81-2.81c.8-.78.8-2.07 0-2.86zM5.41 20L4 18.59l7.72-7.72 1.47 1.35L5.41 20z\"/>\n",
              "  </svg>\n",
              "      </button>\n",
              "      \n",
              "  <style>\n",
              "    .colab-df-container {\n",
              "      display:flex;\n",
              "      flex-wrap:wrap;\n",
              "      gap: 12px;\n",
              "    }\n",
              "\n",
              "    .colab-df-convert {\n",
              "      background-color: #E8F0FE;\n",
              "      border: none;\n",
              "      border-radius: 50%;\n",
              "      cursor: pointer;\n",
              "      display: none;\n",
              "      fill: #1967D2;\n",
              "      height: 32px;\n",
              "      padding: 0 0 0 0;\n",
              "      width: 32px;\n",
              "    }\n",
              "\n",
              "    .colab-df-convert:hover {\n",
              "      background-color: #E2EBFA;\n",
              "      box-shadow: 0px 1px 2px rgba(60, 64, 67, 0.3), 0px 1px 3px 1px rgba(60, 64, 67, 0.15);\n",
              "      fill: #174EA6;\n",
              "    }\n",
              "\n",
              "    [theme=dark] .colab-df-convert {\n",
              "      background-color: #3B4455;\n",
              "      fill: #D2E3FC;\n",
              "    }\n",
              "\n",
              "    [theme=dark] .colab-df-convert:hover {\n",
              "      background-color: #434B5C;\n",
              "      box-shadow: 0px 1px 3px 1px rgba(0, 0, 0, 0.15);\n",
              "      filter: drop-shadow(0px 1px 2px rgba(0, 0, 0, 0.3));\n",
              "      fill: #FFFFFF;\n",
              "    }\n",
              "  </style>\n",
              "\n",
              "      <script>\n",
              "        const buttonEl =\n",
              "          document.querySelector('#df-04dfe00b-d07f-40e5-9f23-4476c3f31b38 button.colab-df-convert');\n",
              "        buttonEl.style.display =\n",
              "          google.colab.kernel.accessAllowed ? 'block' : 'none';\n",
              "\n",
              "        async function convertToInteractive(key) {\n",
              "          const element = document.querySelector('#df-04dfe00b-d07f-40e5-9f23-4476c3f31b38');\n",
              "          const dataTable =\n",
              "            await google.colab.kernel.invokeFunction('convertToInteractive',\n",
              "                                                     [key], {});\n",
              "          if (!dataTable) return;\n",
              "\n",
              "          const docLinkHtml = 'Like what you see? Visit the ' +\n",
              "            '<a target=\"_blank\" href=https://colab.research.google.com/notebooks/data_table.ipynb>data table notebook</a>'\n",
              "            + ' to learn more about interactive tables.';\n",
              "          element.innerHTML = '';\n",
              "          dataTable['output_type'] = 'display_data';\n",
              "          await google.colab.output.renderOutput(dataTable, element);\n",
              "          const docLink = document.createElement('div');\n",
              "          docLink.innerHTML = docLinkHtml;\n",
              "          element.appendChild(docLink);\n",
              "        }\n",
              "      </script>\n",
              "    </div>\n",
              "  </div>\n",
              "  "
            ]
          },
          "metadata": {},
          "execution_count": 94
        }
      ]
    },
    {
      "cell_type": "code",
      "source": [
        "train_df = df.sample(frac=0.8, random_state=0)\n",
        "test_df = df.drop(train_df.index)"
      ],
      "metadata": {
        "id": "1TEgHy_3g71w"
      },
      "execution_count": 97,
      "outputs": []
    },
    {
      "cell_type": "code",
      "source": [
        "sns.pairplot(train_df[['MPG', 'Cylinders', 'Displacement', 'Weight']], diag_kind='kde')"
      ],
      "metadata": {
        "colab": {
          "base_uri": "https://localhost:8080/",
          "height": 1000
        },
        "id": "WhIg1E3JgXc6",
        "outputId": "3184b3a8-9966-4800-c9b3-250ded99165a"
      },
      "execution_count": 98,
      "outputs": [
        {
          "output_type": "execute_result",
          "data": {
            "text/plain": [
              "<seaborn.axisgrid.PairGrid at 0x7f9a1153ffd0>"
            ]
          },
          "metadata": {},
          "execution_count": 98
        },
        {
          "output_type": "display_data",
          "data": {
            "text/plain": [
              "<Figure size 1000x1000 with 20 Axes>"
            ],
            "image/png": "[encoded data removed]"
          },
          "metadata": {}
        }
      ]
    },
    {
      "cell_type": "code",
      "source": [
        "train_df.describe().transpose()"
      ],
      "metadata": {
        "colab": {
          "base_uri": "https://localhost:8080/",
          "height": 363
        },
        "id": "qE6Dxm1Chr0N",
        "outputId": "edce03df-0216-4e77-a372-8964fac85c8d"
      },
      "execution_count": 99,
      "outputs": [
        {
          "output_type": "execute_result",
          "data": {
            "text/plain": [
              "              count         mean         std     min      25%     50%  \\\n",
              "MPG           314.0    23.310510    7.728652    10.0    17.00    22.0   \n",
              "Cylinders     314.0     5.477707    1.699788     3.0     4.00     4.0   \n",
              "Displacement  314.0   195.318471  104.331589    68.0   105.50   151.0   \n",
              "Horsepower    314.0   104.869427   38.096214    46.0    76.25    94.5   \n",
              "Weight        314.0  2990.251592  843.898596  1649.0  2256.50  2822.5   \n",
              "Acceleration  314.0    15.559236    2.789230     8.0    13.80    15.5   \n",
              "Model Year    314.0    75.898089    3.675642    70.0    73.00    76.0   \n",
              "Europe        314.0     0.178344    0.383413     0.0     0.00     0.0   \n",
              "Japan         314.0     0.197452    0.398712     0.0     0.00     0.0   \n",
              "USA           314.0     0.624204    0.485101     0.0     0.00     1.0   \n",
              "\n",
              "                  75%     max  \n",
              "MPG             28.95    46.6  \n",
              "Cylinders        8.00     8.0  \n",
              "Displacement   265.75   455.0  \n",
              "Horsepower     128.00   225.0  \n",
              "Weight        3608.00  5140.0  \n",
              "Acceleration    17.20    24.8  \n",
              "Model Year      79.00    82.0  \n",
              "Europe           0.00     1.0  \n",
              "Japan            0.00     1.0  \n",
              "USA              1.00     1.0  "
            ],
            "text/html": [
              "\n",
              "  <div id=\"df-64c1f086-b65d-446b-99fc-ae84fcf00f80\">\n",
              "    <div class=\"colab-df-container\">\n",
              "      <div>\n",
              "<style scoped>\n",
              "    .dataframe tbody tr th:only-of-type {\n",
              "        vertical-align: middle;\n",
              "    }\n",
              "\n",
              "    .dataframe tbody tr th {\n",
              "        vertical-align: top;\n",
              "    }\n",
              "\n",
              "    .dataframe thead th {\n",
              "        text-align: right;\n",
              "    }\n",
              "</style>\n",
              "<table border=\"1\" class=\"dataframe\">\n",
              "  <thead>\n",
              "    <tr style=\"text-align: right;\">\n",
              "      <th></th>\n",
              "      <th>count</th>\n",
              "      <th>mean</th>\n",
              "      <th>std</th>\n",
              "      <th>min</th>\n",
              "      <th>25%</th>\n",
              "      <th>50%</th>\n",
              "      <th>75%</th>\n",
              "      <th>max</th>\n",
              "    </tr>\n",
              "  </thead>\n",
              "  <tbody>\n",
              "    <tr>\n",
              "      <th>MPG</th>\n",
              "      <td>314.0</td>\n",
              "      <td>23.310510</td>\n",
              "      <td>7.728652</td>\n",
              "      <td>10.0</td>\n",
              "      <td>17.00</td>\n",
              "      <td>22.0</td>\n",
              "      <td>28.95</td>\n",
              "      <td>46.6</td>\n",
              "    </tr>\n",
              "    <tr>\n",
              "      <th>Cylinders</th>\n",
              "      <td>314.0</td>\n",
              "      <td>5.477707</td>\n",
              "      <td>1.699788</td>\n",
              "      <td>3.0</td>\n",
              "      <td>4.00</td>\n",
              "      <td>4.0</td>\n",
              "      <td>8.00</td>\n",
              "      <td>8.0</td>\n",
              "    </tr>\n",
              "    <tr>\n",
              "      <th>Displacement</th>\n",
              "      <td>314.0</td>\n",
              "      <td>195.318471</td>\n",
              "      <td>104.331589</td>\n",
              "      <td>68.0</td>\n",
              "      <td>105.50</td>\n",
              "      <td>151.0</td>\n",
              "      <td>265.75</td>\n",
              "      <td>455.0</td>\n",
              "    </tr>\n",
              "    <tr>\n",
              "      <th>Horsepower</th>\n",
              "      <td>314.0</td>\n",
              "      <td>104.869427</td>\n",
              "      <td>38.096214</td>\n",
              "      <td>46.0</td>\n",
              "      <td>76.25</td>\n",
              "      <td>94.5</td>\n",
              "      <td>128.00</td>\n",
              "      <td>225.0</td>\n",
              "    </tr>\n",
              "    <tr>\n",
              "      <th>Weight</th>\n",
              "      <td>314.0</td>\n",
              "      <td>2990.251592</td>\n",
              "      <td>843.898596</td>\n",
              "      <td>1649.0</td>\n",
              "      <td>2256.50</td>\n",
              "      <td>2822.5</td>\n",
              "      <td>3608.00</td>\n",
              "      <td>5140.0</td>\n",
              "    </tr>\n",
              "    <tr>\n",
              "      <th>Acceleration</th>\n",
              "      <td>314.0</td>\n",
              "      <td>15.559236</td>\n",
              "      <td>2.789230</td>\n",
              "      <td>8.0</td>\n",
              "      <td>13.80</td>\n",
              "      <td>15.5</td>\n",
              "      <td>17.20</td>\n",
              "      <td>24.8</td>\n",
              "    </tr>\n",
              "    <tr>\n",
              "      <th>Model Year</th>\n",
              "      <td>314.0</td>\n",
              "      <td>75.898089</td>\n",
              "      <td>3.675642</td>\n",
              "      <td>70.0</td>\n",
              "      <td>73.00</td>\n",
              "      <td>76.0</td>\n",
              "      <td>79.00</td>\n",
              "      <td>82.0</td>\n",
              "    </tr>\n",
              "    <tr>\n",
              "      <th>Europe</th>\n",
              "      <td>314.0</td>\n",
              "      <td>0.178344</td>\n",
              "      <td>0.383413</td>\n",
              "      <td>0.0</td>\n",
              "      <td>0.00</td>\n",
              "      <td>0.0</td>\n",
              "      <td>0.00</td>\n",
              "      <td>1.0</td>\n",
              "    </tr>\n",
              "    <tr>\n",
              "      <th>Japan</th>\n",
              "      <td>314.0</td>\n",
              "      <td>0.197452</td>\n",
              "      <td>0.398712</td>\n",
              "      <td>0.0</td>\n",
              "      <td>0.00</td>\n",
              "      <td>0.0</td>\n",
              "      <td>0.00</td>\n",
              "      <td>1.0</td>\n",
              "    </tr>\n",
              "    <tr>\n",
              "      <th>USA</th>\n",
              "      <td>314.0</td>\n",
              "      <td>0.624204</td>\n",
              "      <td>0.485101</td>\n",
              "      <td>0.0</td>\n",
              "      <td>0.00</td>\n",
              "      <td>1.0</td>\n",
              "      <td>1.00</td>\n",
              "      <td>1.0</td>\n",
              "    </tr>\n",
              "  </tbody>\n",
              "</table>\n",
              "</div>\n",
              "      <button class=\"colab-df-convert\" onclick=\"convertToInteractive('df-64c1f086-b65d-446b-99fc-ae84fcf00f80')\"\n",
              "              title=\"Convert this dataframe to an interactive table.\"\n",
              "              style=\"display:none;\">\n",
              "        \n",
              "  <svg xmlns=\"http://www.w3.org/2000/svg\" height=\"24px\"viewBox=\"0 0 24 24\"\n",
              "       width=\"24px\">\n",
              "    <path d=\"M0 0h24v24H0V0z\" fill=\"none\"/>\n",
              "    <path d=\"M18.56 5.44l.94 2.06.94-2.06 2.06-.94-2.06-.94-.94-2.06-.94 2.06-2.06.94zm-11 1L8.5 8.5l.94-2.06 2.06-.94-2.06-.94L8.5 2.5l-.94 2.06-2.06.94zm10 10l.94 2.06.94-2.06 2.06-.94-2.06-.94-.94-2.06-.94 2.06-2.06.94z\"/><path d=\"M17.41 7.96l-1.37-1.37c-.4-.4-.92-.59-1.43-.59-.52 0-1.04.2-1.43.59L10.3 9.45l-7.72 7.72c-.78.78-.78 2.05 0 2.83L4 21.41c.39.39.9.59 1.41.59.51 0 1.02-.2 1.41-.59l7.78-7.78 2.81-2.81c.8-.78.8-2.07 0-2.86zM5.41 20L4 18.59l7.72-7.72 1.47 1.35L5.41 20z\"/>\n",
              "  </svg>\n",
              "      </button>\n",
              "      \n",
              "  <style>\n",
              "    .colab-df-container {\n",
              "      display:flex;\n",
              "      flex-wrap:wrap;\n",
              "      gap: 12px;\n",
              "    }\n",
              "\n",
              "    .colab-df-convert {\n",
              "      background-color: #E8F0FE;\n",
              "      border: none;\n",
              "      border-radius: 50%;\n",
              "      cursor: pointer;\n",
              "      display: none;\n",
              "      fill: #1967D2;\n",
              "      height: 32px;\n",
              "      padding: 0 0 0 0;\n",
              "      width: 32px;\n",
              "    }\n",
              "\n",
              "    .colab-df-convert:hover {\n",
              "      background-color: #E2EBFA;\n",
              "      box-shadow: 0px 1px 2px rgba(60, 64, 67, 0.3), 0px 1px 3px 1px rgba(60, 64, 67, 0.15);\n",
              "      fill: #174EA6;\n",
              "    }\n",
              "\n",
              "    [theme=dark] .colab-df-convert {\n",
              "      background-color: #3B4455;\n",
              "      fill: #D2E3FC;\n",
              "    }\n",
              "\n",
              "    [theme=dark] .colab-df-convert:hover {\n",
              "      background-color: #434B5C;\n",
              "      box-shadow: 0px 1px 3px 1px rgba(0, 0, 0, 0.15);\n",
              "      filter: drop-shadow(0px 1px 2px rgba(0, 0, 0, 0.3));\n",
              "      fill: #FFFFFF;\n",
              "    }\n",
              "  </style>\n",
              "\n",
              "      <script>\n",
              "        const buttonEl =\n",
              "          document.querySelector('#df-64c1f086-b65d-446b-99fc-ae84fcf00f80 button.colab-df-convert');\n",
              "        buttonEl.style.display =\n",
              "          google.colab.kernel.accessAllowed ? 'block' : 'none';\n",
              "\n",
              "        async function convertToInteractive(key) {\n",
              "          const element = document.querySelector('#df-64c1f086-b65d-446b-99fc-ae84fcf00f80');\n",
              "          const dataTable =\n",
              "            await google.colab.kernel.invokeFunction('convertToInteractive',\n",
              "                                                     [key], {});\n",
              "          if (!dataTable) return;\n",
              "\n",
              "          const docLinkHtml = 'Like what you see? Visit the ' +\n",
              "            '<a target=\"_blank\" href=https://colab.research.google.com/notebooks/data_table.ipynb>data table notebook</a>'\n",
              "            + ' to learn more about interactive tables.';\n",
              "          element.innerHTML = '';\n",
              "          dataTable['output_type'] = 'display_data';\n",
              "          await google.colab.output.renderOutput(dataTable, element);\n",
              "          const docLink = document.createElement('div');\n",
              "          docLink.innerHTML = docLinkHtml;\n",
              "          element.appendChild(docLink);\n",
              "        }\n",
              "      </script>\n",
              "    </div>\n",
              "  </div>\n",
              "  "
            ]
          },
          "metadata": {},
          "execution_count": 99
        }
      ]
    },
    {
      "cell_type": "code",
      "source": [
        "train_features = train_df.copy()\n",
        "test_features = test_df.copy()\n",
        "\n",
        "train_labels = train_features.pop('MPG')\n",
        "test_labels = test_features.pop('MPG')\n"
      ],
      "metadata": {
        "id": "DtzQK4ykiU5f"
      },
      "execution_count": 103,
      "outputs": []
    },
    {
      "cell_type": "code",
      "source": [
        "normalizer = tf.keras.layers.Normalization(axis=-1)\n",
        "normalizer.adapt(np.array(train_features))\n",
        "print(normalizer.mean.numpy())"
      ],
      "metadata": {
        "colab": {
          "base_uri": "https://localhost:8080/"
        },
        "id": "V4JHNPh9ijz0",
        "outputId": "386adcce-ef1f-4ae8-952c-1071b7c05ce3"
      },
      "execution_count": 104,
      "outputs": [
        {
          "output_type": "stream",
          "name": "stdout",
          "text": [
            "[[5.47770691e+00 1.95318497e+02 1.04869446e+02 2.99025171e+03\n",
            "  1.55592356e+01 7.58980942e+01 1.78343967e-01 1.97452217e-01\n",
            "  6.24203861e-01]]\n"
          ]
        }
      ]
    },
    {
      "cell_type": "markdown",
      "source": [
        "First Trying Regression with 1 Column ('Horsepower')"
      ],
      "metadata": {
        "id": "PqrZ2YN-k3ps"
      }
    },
    {
      "cell_type": "code",
      "source": [
        "horsepower = np.array(train_features['Horsepower'])\n",
        "\n",
        "horsepower_normalizer = layers.Normalization(input_shape=[1,],axis=None)\n",
        "horsepower_normalizer.adapt(horsepower)\n",
        "horsepower_model = tf.keras.Sequential([\n",
        "    horsepower_normalizer,\n",
        "    layers.Dense(units=1)\n",
        "])\n",
        "horsepower_model.summary()"
      ],
      "metadata": {
        "colab": {
          "base_uri": "https://localhost:8080/"
        },
        "id": "pwOjuRpOk9Jl",
        "outputId": "f514d271-712c-4961-a813-b0ef18e67293"
      },
      "execution_count": 106,
      "outputs": [
        {
          "output_type": "stream",
          "name": "stdout",
          "text": [
            "Model: \"sequential\"\n",
            "_________________________________________________________________\n",
            " Layer (type)                Output Shape              Param #   \n",
            "=================================================================\n",
            " normalization_1 (Normalizat  (None, 1)                3         \n",
            " ion)                                                            \n",
            "                                                                 \n",
            " dense (Dense)               (None, 1)                 2         \n",
            "                                                                 \n",
            "=================================================================\n",
            "Total params: 5\n",
            "Trainable params: 2\n",
            "Non-trainable params: 3\n",
            "_________________________________________________________________\n"
          ]
        }
      ]
    },
    {
      "cell_type": "code",
      "source": [
        "horsepower_model.predict(horsepower[:10])"
      ],
      "metadata": {
        "colab": {
          "base_uri": "https://localhost:8080/"
        },
        "id": "Cb4VnXEwlhPI",
        "outputId": "fff93cd7-3053-4389-c9c0-2f24d08b4f64"
      },
      "execution_count": 107,
      "outputs": [
        {
          "output_type": "stream",
          "name": "stdout",
          "text": [
            "1/1 [==============================] - 0s 84ms/step\n"
          ]
        },
        {
          "output_type": "execute_result",
          "data": {
            "text/plain": [
              "array([[ 1.27671   ],\n",
              "       [ 0.7210509 ],\n",
              "       [-2.3564458 ],\n",
              "       [ 1.7896262 ],\n",
              "       [ 1.6186541 ],\n",
              "       [ 0.63556486],\n",
              "       [ 1.9178551 ],\n",
              "       [ 1.6186541 ],\n",
              "       [ 0.42184982],\n",
              "       [ 0.7210509 ]], dtype=float32)"
            ]
          },
          "metadata": {},
          "execution_count": 107
        }
      ]
    },
    {
      "cell_type": "code",
      "source": [
        "horsepower_model.compile(\n",
        "    optimizer=tf.keras.optimizers.Adam(learning_rate=0.1),\n",
        "    loss='mean_absolute_error'\n",
        ")"
      ],
      "metadata": {
        "id": "Cn_CsDFllmgG"
      },
      "execution_count": 109,
      "outputs": []
    },
    {
      "cell_type": "code",
      "source": [
        "%%time\n",
        "history = horsepower_model.fit(\n",
        "    train_features['Horsepower'],\n",
        "    train_labels,\n",
        "    epochs=100,\n",
        "    verbose=1,\n",
        "    validation_split=0.2\n",
        ")"
      ],
      "metadata": {
        "colab": {
          "base_uri": "https://localhost:8080/"
        },
        "id": "ig-CdQk4ly-j",
        "outputId": "09a4bede-0ff7-4450-8423-cd4fda7eba24"
      },
      "execution_count": 110,
      "outputs": [
        {
          "output_type": "stream",
          "name": "stdout",
          "text": [
            "Epoch 1/100\n",
            "8/8 [==============================] - 1s 56ms/step - loss: 22.8678 - val_loss: 22.9299\n",
            "Epoch 2/100\n",
            "8/8 [==============================] - 0s 21ms/step - loss: 22.0633 - val_loss: 22.1299\n",
            "Epoch 3/100\n",
            "8/8 [==============================] - 0s 22ms/step - loss: 21.2634 - val_loss: 21.3298\n",
            "Epoch 4/100\n",
            "8/8 [==============================] - 0s 13ms/step - loss: 20.4627 - val_loss: 20.5298\n",
            "Epoch 5/100\n",
            "8/8 [==============================] - 0s 18ms/step - loss: 19.6648 - val_loss: 19.7300\n",
            "Epoch 6/100\n",
            "8/8 [==============================] - 0s 18ms/step - loss: 18.8631 - val_loss: 18.9299\n",
            "Epoch 7/100\n",
            "8/8 [==============================] - 0s 8ms/step - loss: 18.0632 - val_loss: 18.1299\n",
            "Epoch 8/100\n",
            "8/8 [==============================] - 0s 8ms/step - loss: 17.2639 - val_loss: 17.3297\n",
            "Epoch 9/100\n",
            "8/8 [==============================] - 0s 6ms/step - loss: 16.4632 - val_loss: 16.5298\n",
            "Epoch 10/100\n",
            "8/8 [==============================] - 0s 6ms/step - loss: 15.6630 - val_loss: 15.7298\n",
            "Epoch 11/100\n",
            "8/8 [==============================] - 0s 8ms/step - loss: 14.8645 - val_loss: 14.9300\n",
            "Epoch 12/100\n",
            "8/8 [==============================] - 0s 6ms/step - loss: 14.0656 - val_loss: 14.1297\n",
            "Epoch 13/100\n",
            "8/8 [==============================] - 0s 7ms/step - loss: 13.2661 - val_loss: 13.3296\n",
            "Epoch 14/100\n",
            "8/8 [==============================] - 0s 8ms/step - loss: 12.4654 - val_loss: 12.5299\n",
            "Epoch 15/100\n",
            "8/8 [==============================] - 0s 9ms/step - loss: 11.6647 - val_loss: 11.7298\n",
            "Epoch 16/100\n",
            "8/8 [==============================] - 0s 9ms/step - loss: 10.8659 - val_loss: 10.9301\n",
            "Epoch 17/100\n",
            "8/8 [==============================] - 0s 7ms/step - loss: 10.0632 - val_loss: 10.1299\n",
            "Epoch 18/100\n",
            "8/8 [==============================] - 0s 9ms/step - loss: 9.2803 - val_loss: 9.3377\n",
            "Epoch 19/100\n",
            "8/8 [==============================] - 0s 7ms/step - loss: 8.5293 - val_loss: 8.5832\n",
            "Epoch 20/100\n",
            "8/8 [==============================] - 0s 9ms/step - loss: 7.8161 - val_loss: 7.8523\n",
            "Epoch 21/100\n",
            "8/8 [==============================] - 0s 7ms/step - loss: 7.1525 - val_loss: 7.1513\n",
            "Epoch 22/100\n",
            "8/8 [==============================] - 0s 9ms/step - loss: 6.5170 - val_loss: 6.5186\n",
            "Epoch 23/100\n",
            "8/8 [==============================] - 0s 6ms/step - loss: 5.9425 - val_loss: 5.9627\n",
            "Epoch 24/100\n",
            "8/8 [==============================] - 0s 7ms/step - loss: 5.4460 - val_loss: 5.5472\n",
            "Epoch 25/100\n",
            "8/8 [==============================] - 0s 9ms/step - loss: 5.0305 - val_loss: 5.2261\n",
            "Epoch 26/100\n",
            "8/8 [==============================] - 0s 9ms/step - loss: 4.7314 - val_loss: 5.0148\n",
            "Epoch 27/100\n",
            "8/8 [==============================] - 0s 6ms/step - loss: 4.4814 - val_loss: 4.8311\n",
            "Epoch 28/100\n",
            "8/8 [==============================] - 0s 9ms/step - loss: 4.2723 - val_loss: 4.6754\n",
            "Epoch 29/100\n",
            "8/8 [==============================] - 0s 8ms/step - loss: 4.1360 - val_loss: 4.5573\n",
            "Epoch 30/100\n",
            "8/8 [==============================] - 0s 8ms/step - loss: 4.0225 - val_loss: 4.4700\n",
            "Epoch 31/100\n",
            "8/8 [==============================] - 0s 10ms/step - loss: 3.9537 - val_loss: 4.3829\n",
            "Epoch 32/100\n",
            "8/8 [==============================] - 0s 9ms/step - loss: 3.8912 - val_loss: 4.3210\n",
            "Epoch 33/100\n",
            "8/8 [==============================] - 0s 7ms/step - loss: 3.8644 - val_loss: 4.2683\n",
            "Epoch 34/100\n",
            "8/8 [==============================] - 0s 6ms/step - loss: 3.8493 - val_loss: 4.2374\n",
            "Epoch 35/100\n",
            "8/8 [==============================] - 0s 6ms/step - loss: 3.8257 - val_loss: 4.2379\n",
            "Epoch 36/100\n",
            "8/8 [==============================] - 0s 7ms/step - loss: 3.8223 - val_loss: 4.2411\n",
            "Epoch 37/100\n",
            "8/8 [==============================] - 0s 9ms/step - loss: 3.8163 - val_loss: 4.2284\n",
            "Epoch 38/100\n",
            "8/8 [==============================] - 0s 9ms/step - loss: 3.8094 - val_loss: 4.1944\n",
            "Epoch 39/100\n",
            "8/8 [==============================] - 0s 8ms/step - loss: 3.8068 - val_loss: 4.1865\n",
            "Epoch 40/100\n",
            "8/8 [==============================] - 0s 6ms/step - loss: 3.8031 - val_loss: 4.1978\n",
            "Epoch 41/100\n",
            "8/8 [==============================] - 0s 9ms/step - loss: 3.8086 - val_loss: 4.2257\n",
            "Epoch 42/100\n",
            "8/8 [==============================] - 0s 6ms/step - loss: 3.8057 - val_loss: 4.2124\n",
            "Epoch 43/100\n",
            "8/8 [==============================] - 0s 8ms/step - loss: 3.8037 - val_loss: 4.1841\n",
            "Epoch 44/100\n",
            "8/8 [==============================] - 0s 9ms/step - loss: 3.8044 - val_loss: 4.1705\n",
            "Epoch 45/100\n",
            "8/8 [==============================] - 0s 9ms/step - loss: 3.8058 - val_loss: 4.1898\n",
            "Epoch 46/100\n",
            "8/8 [==============================] - 0s 7ms/step - loss: 3.8062 - val_loss: 4.1869\n",
            "Epoch 47/100\n",
            "8/8 [==============================] - 0s 6ms/step - loss: 3.8045 - val_loss: 4.1976\n",
            "Epoch 48/100\n",
            "8/8 [==============================] - 0s 8ms/step - loss: 3.8026 - val_loss: 4.1891\n",
            "Epoch 49/100\n",
            "8/8 [==============================] - 0s 6ms/step - loss: 3.8069 - val_loss: 4.2045\n",
            "Epoch 50/100\n",
            "8/8 [==============================] - 0s 7ms/step - loss: 3.8028 - val_loss: 4.1862\n",
            "Epoch 51/100\n",
            "8/8 [==============================] - 0s 9ms/step - loss: 3.8033 - val_loss: 4.1778\n",
            "Epoch 52/100\n",
            "8/8 [==============================] - 0s 9ms/step - loss: 3.8040 - val_loss: 4.1788\n",
            "Epoch 53/100\n",
            "8/8 [==============================] - 0s 9ms/step - loss: 3.8043 - val_loss: 4.2024\n",
            "Epoch 54/100\n",
            "8/8 [==============================] - 0s 6ms/step - loss: 3.8028 - val_loss: 4.1891\n",
            "Epoch 55/100\n",
            "8/8 [==============================] - 0s 7ms/step - loss: 3.8064 - val_loss: 4.1635\n",
            "Epoch 56/100\n",
            "8/8 [==============================] - 0s 8ms/step - loss: 3.8043 - val_loss: 4.1821\n",
            "Epoch 57/100\n",
            "8/8 [==============================] - 0s 6ms/step - loss: 3.8044 - val_loss: 4.1992\n",
            "Epoch 58/100\n",
            "8/8 [==============================] - 0s 9ms/step - loss: 3.8022 - val_loss: 4.1879\n",
            "Epoch 59/100\n",
            "8/8 [==============================] - 0s 8ms/step - loss: 3.8048 - val_loss: 4.1802\n",
            "Epoch 60/100\n",
            "8/8 [==============================] - 0s 9ms/step - loss: 3.8027 - val_loss: 4.1963\n",
            "Epoch 61/100\n",
            "8/8 [==============================] - 0s 8ms/step - loss: 3.8060 - val_loss: 4.1972\n",
            "Epoch 62/100\n",
            "8/8 [==============================] - 0s 9ms/step - loss: 3.8051 - val_loss: 4.1943\n",
            "Epoch 63/100\n",
            "8/8 [==============================] - 0s 6ms/step - loss: 3.8053 - val_loss: 4.1622\n",
            "Epoch 64/100\n",
            "8/8 [==============================] - 0s 7ms/step - loss: 3.8040 - val_loss: 4.1701\n",
            "Epoch 65/100\n",
            "8/8 [==============================] - 0s 6ms/step - loss: 3.8117 - val_loss: 4.2022\n",
            "Epoch 66/100\n",
            "8/8 [==============================] - 0s 9ms/step - loss: 3.8046 - val_loss: 4.1736\n",
            "Epoch 67/100\n",
            "8/8 [==============================] - 0s 6ms/step - loss: 3.8081 - val_loss: 4.1948\n",
            "Epoch 68/100\n",
            "8/8 [==============================] - 0s 9ms/step - loss: 3.8034 - val_loss: 4.1787\n",
            "Epoch 69/100\n",
            "8/8 [==============================] - 0s 8ms/step - loss: 3.8055 - val_loss: 4.1999\n",
            "Epoch 70/100\n",
            "8/8 [==============================] - 0s 7ms/step - loss: 3.8020 - val_loss: 4.1915\n",
            "Epoch 71/100\n",
            "8/8 [==============================] - 0s 8ms/step - loss: 3.8038 - val_loss: 4.1841\n",
            "Epoch 72/100\n",
            "8/8 [==============================] - 0s 7ms/step - loss: 3.8059 - val_loss: 4.1862\n",
            "Epoch 73/100\n",
            "8/8 [==============================] - 0s 9ms/step - loss: 3.8046 - val_loss: 4.1791\n",
            "Epoch 74/100\n",
            "8/8 [==============================] - 0s 6ms/step - loss: 3.8016 - val_loss: 4.2076\n",
            "Epoch 75/100\n",
            "8/8 [==============================] - 0s 9ms/step - loss: 3.8094 - val_loss: 4.2192\n",
            "Epoch 76/100\n",
            "8/8 [==============================] - 0s 7ms/step - loss: 3.8033 - val_loss: 4.1859\n",
            "Epoch 77/100\n",
            "8/8 [==============================] - 0s 9ms/step - loss: 3.8037 - val_loss: 4.1861\n",
            "Epoch 78/100\n",
            "8/8 [==============================] - 0s 7ms/step - loss: 3.8048 - val_loss: 4.1884\n",
            "Epoch 79/100\n",
            "8/8 [==============================] - 0s 9ms/step - loss: 3.8039 - val_loss: 4.2002\n",
            "Epoch 80/100\n",
            "8/8 [==============================] - 0s 6ms/step - loss: 3.8051 - val_loss: 4.1935\n",
            "Epoch 81/100\n",
            "8/8 [==============================] - 0s 9ms/step - loss: 3.8114 - val_loss: 4.2181\n",
            "Epoch 82/100\n",
            "8/8 [==============================] - 0s 9ms/step - loss: 3.8031 - val_loss: 4.1977\n",
            "Epoch 83/100\n",
            "8/8 [==============================] - 0s 6ms/step - loss: 3.8018 - val_loss: 4.1764\n",
            "Epoch 84/100\n",
            "8/8 [==============================] - 0s 9ms/step - loss: 3.8092 - val_loss: 4.1580\n",
            "Epoch 85/100\n",
            "8/8 [==============================] - 0s 9ms/step - loss: 3.8095 - val_loss: 4.1580\n",
            "Epoch 86/100\n",
            "8/8 [==============================] - 0s 8ms/step - loss: 3.8016 - val_loss: 4.1813\n",
            "Epoch 87/100\n",
            "8/8 [==============================] - 0s 8ms/step - loss: 3.8049 - val_loss: 4.2105\n",
            "Epoch 88/100\n",
            "8/8 [==============================] - 0s 9ms/step - loss: 3.8044 - val_loss: 4.1897\n",
            "Epoch 89/100\n",
            "8/8 [==============================] - 0s 7ms/step - loss: 3.8035 - val_loss: 4.1902\n",
            "Epoch 90/100\n",
            "8/8 [==============================] - 0s 6ms/step - loss: 3.8056 - val_loss: 4.1849\n",
            "Epoch 91/100\n",
            "8/8 [==============================] - 0s 6ms/step - loss: 3.8054 - val_loss: 4.1654\n",
            "Epoch 92/100\n",
            "8/8 [==============================] - 0s 6ms/step - loss: 3.8040 - val_loss: 4.1842\n",
            "Epoch 93/100\n",
            "8/8 [==============================] - 0s 6ms/step - loss: 3.8025 - val_loss: 4.1965\n",
            "Epoch 94/100\n",
            "8/8 [==============================] - 0s 8ms/step - loss: 3.8062 - val_loss: 4.1901\n",
            "Epoch 95/100\n",
            "8/8 [==============================] - 0s 8ms/step - loss: 3.8035 - val_loss: 4.1876\n",
            "Epoch 96/100\n",
            "8/8 [==============================] - 0s 9ms/step - loss: 3.8048 - val_loss: 4.2027\n",
            "Epoch 97/100\n",
            "8/8 [==============================] - 0s 7ms/step - loss: 3.8052 - val_loss: 4.1811\n",
            "Epoch 98/100\n",
            "8/8 [==============================] - 0s 7ms/step - loss: 3.8063 - val_loss: 4.2101\n",
            "Epoch 99/100\n",
            "8/8 [==============================] - 0s 6ms/step - loss: 3.8069 - val_loss: 4.2046\n",
            "Epoch 100/100\n",
            "8/8 [==============================] - 0s 9ms/step - loss: 3.8013 - val_loss: 4.1813\n",
            "CPU times: user 6.66 s, sys: 286 ms, total: 6.95 s\n",
            "Wall time: 8.57 s\n"
          ]
        }
      ]
    },
    {
      "cell_type": "code",
      "source": [
        "hist = pd.DataFrame(history.history)\n",
        "hist['epoch'] = history.epoch\n",
        "hist.tail()"
      ],
      "metadata": {
        "colab": {
          "base_uri": "https://localhost:8080/",
          "height": 206
        },
        "id": "pElw00rUmA8V",
        "outputId": "56e780be-56c9-4f57-fc77-8905b644a888"
      },
      "execution_count": 114,
      "outputs": [
        {
          "output_type": "execute_result",
          "data": {
            "text/plain": [
              "        loss  val_loss  epoch\n",
              "95  3.804850  4.202663     95\n",
              "96  3.805203  4.181102     96\n",
              "97  3.806299  4.210064     97\n",
              "98  3.806858  4.204631     98\n",
              "99  3.801344  4.181316     99"
            ],
            "text/html": [
              "\n",
              "  <div id=\"df-9310c618-31a7-4e9e-b5d4-544c2e2fd6c4\">\n",
              "    <div class=\"colab-df-container\">\n",
              "      <div>\n",
              "<style scoped>\n",
              "    .dataframe tbody tr th:only-of-type {\n",
              "        vertical-align: middle;\n",
              "    }\n",
              "\n",
              "    .dataframe tbody tr th {\n",
              "        vertical-align: top;\n",
              "    }\n",
              "\n",
              "    .dataframe thead th {\n",
              "        text-align: right;\n",
              "    }\n",
              "</style>\n",
              "<table border=\"1\" class=\"dataframe\">\n",
              "  <thead>\n",
              "    <tr style=\"text-align: right;\">\n",
              "      <th></th>\n",
              "      <th>loss</th>\n",
              "      <th>val_loss</th>\n",
              "      <th>epoch</th>\n",
              "    </tr>\n",
              "  </thead>\n",
              "  <tbody>\n",
              "    <tr>\n",
              "      <th>95</th>\n",
              "      <td>3.804850</td>\n",
              "      <td>4.202663</td>\n",
              "      <td>95</td>\n",
              "    </tr>\n",
              "    <tr>\n",
              "      <th>96</th>\n",
              "      <td>3.805203</td>\n",
              "      <td>4.181102</td>\n",
              "      <td>96</td>\n",
              "    </tr>\n",
              "    <tr>\n",
              "      <th>97</th>\n",
              "      <td>3.806299</td>\n",
              "      <td>4.210064</td>\n",
              "      <td>97</td>\n",
              "    </tr>\n",
              "    <tr>\n",
              "      <th>98</th>\n",
              "      <td>3.806858</td>\n",
              "      <td>4.204631</td>\n",
              "      <td>98</td>\n",
              "    </tr>\n",
              "    <tr>\n",
              "      <th>99</th>\n",
              "      <td>3.801344</td>\n",
              "      <td>4.181316</td>\n",
              "      <td>99</td>\n",
              "    </tr>\n",
              "  </tbody>\n",
              "</table>\n",
              "</div>\n",
              "      <button class=\"colab-df-convert\" onclick=\"convertToInteractive('df-9310c618-31a7-4e9e-b5d4-544c2e2fd6c4')\"\n",
              "              title=\"Convert this dataframe to an interactive table.\"\n",
              "              style=\"display:none;\">\n",
              "        \n",
              "  <svg xmlns=\"http://www.w3.org/2000/svg\" height=\"24px\"viewBox=\"0 0 24 24\"\n",
              "       width=\"24px\">\n",
              "    <path d=\"M0 0h24v24H0V0z\" fill=\"none\"/>\n",
              "    <path d=\"M18.56 5.44l.94 2.06.94-2.06 2.06-.94-2.06-.94-.94-2.06-.94 2.06-2.06.94zm-11 1L8.5 8.5l.94-2.06 2.06-.94-2.06-.94L8.5 2.5l-.94 2.06-2.06.94zm10 10l.94 2.06.94-2.06 2.06-.94-2.06-.94-.94-2.06-.94 2.06-2.06.94z\"/><path d=\"M17.41 7.96l-1.37-1.37c-.4-.4-.92-.59-1.43-.59-.52 0-1.04.2-1.43.59L10.3 9.45l-7.72 7.72c-.78.78-.78 2.05 0 2.83L4 21.41c.39.39.9.59 1.41.59.51 0 1.02-.2 1.41-.59l7.78-7.78 2.81-2.81c.8-.78.8-2.07 0-2.86zM5.41 20L4 18.59l7.72-7.72 1.47 1.35L5.41 20z\"/>\n",
              "  </svg>\n",
              "      </button>\n",
              "      \n",
              "  <style>\n",
              "    .colab-df-container {\n",
              "      display:flex;\n",
              "      flex-wrap:wrap;\n",
              "      gap: 12px;\n",
              "    }\n",
              "\n",
              "    .colab-df-convert {\n",
              "      background-color: #E8F0FE;\n",
              "      border: none;\n",
              "      border-radius: 50%;\n",
              "      cursor: pointer;\n",
              "      display: none;\n",
              "      fill: #1967D2;\n",
              "      height: 32px;\n",
              "      padding: 0 0 0 0;\n",
              "      width: 32px;\n",
              "    }\n",
              "\n",
              "    .colab-df-convert:hover {\n",
              "      background-color: #E2EBFA;\n",
              "      box-shadow: 0px 1px 2px rgba(60, 64, 67, 0.3), 0px 1px 3px 1px rgba(60, 64, 67, 0.15);\n",
              "      fill: #174EA6;\n",
              "    }\n",
              "\n",
              "    [theme=dark] .colab-df-convert {\n",
              "      background-color: #3B4455;\n",
              "      fill: #D2E3FC;\n",
              "    }\n",
              "\n",
              "    [theme=dark] .colab-df-convert:hover {\n",
              "      background-color: #434B5C;\n",
              "      box-shadow: 0px 1px 3px 1px rgba(0, 0, 0, 0.15);\n",
              "      filter: drop-shadow(0px 1px 2px rgba(0, 0, 0, 0.3));\n",
              "      fill: #FFFFFF;\n",
              "    }\n",
              "  </style>\n",
              "\n",
              "      <script>\n",
              "        const buttonEl =\n",
              "          document.querySelector('#df-9310c618-31a7-4e9e-b5d4-544c2e2fd6c4 button.colab-df-convert');\n",
              "        buttonEl.style.display =\n",
              "          google.colab.kernel.accessAllowed ? 'block' : 'none';\n",
              "\n",
              "        async function convertToInteractive(key) {\n",
              "          const element = document.querySelector('#df-9310c618-31a7-4e9e-b5d4-544c2e2fd6c4');\n",
              "          const dataTable =\n",
              "            await google.colab.kernel.invokeFunction('convertToInteractive',\n",
              "                                                     [key], {});\n",
              "          if (!dataTable) return;\n",
              "\n",
              "          const docLinkHtml = 'Like what you see? Visit the ' +\n",
              "            '<a target=\"_blank\" href=https://colab.research.google.com/notebooks/data_table.ipynb>data table notebook</a>'\n",
              "            + ' to learn more about interactive tables.';\n",
              "          element.innerHTML = '';\n",
              "          dataTable['output_type'] = 'display_data';\n",
              "          await google.colab.output.renderOutput(dataTable, element);\n",
              "          const docLink = document.createElement('div');\n",
              "          docLink.innerHTML = docLinkHtml;\n",
              "          element.appendChild(docLink);\n",
              "        }\n",
              "      </script>\n",
              "    </div>\n",
              "  </div>\n",
              "  "
            ]
          },
          "metadata": {},
          "execution_count": 114
        }
      ]
    },
    {
      "cell_type": "code",
      "source": [
        "def plot_loss(history):\n",
        "  plt.plot(history.history['loss'], label='loss')\n",
        "  plt.plot(history.history['val_loss'], label='val_loss')\n",
        "  plt.ylim([0,30])\n",
        "  plt.xlabel('Epoch')\n",
        "  plt.ylabel('Error [MPG]')\n",
        "  plt.legend()\n",
        "  plt.grid(True)\n",
        "\n",
        "plot_loss(history)\n"
      ],
      "metadata": {
        "colab": {
          "base_uri": "https://localhost:8080/",
          "height": 455
        },
        "id": "ntUDjbr1mKxO",
        "outputId": "0f48a745-aff6-4c95-8b83-930efbe2dcd5"
      },
      "execution_count": 115,
      "outputs": [
        {
          "output_type": "display_data",
          "data": {
            "text/plain": [
              "<Figure size 640x480 with 1 Axes>"
            ],
            "image/png": "[encoded data removed]"
          },
          "metadata": {}
        }
      ]
    },
    {
      "cell_type": "code",
      "source": [
        "test_results = {}\n",
        "test_results['horsepower_model'] = horsepower_model.evaluate(\n",
        "    test_features['Horsepower'],\n",
        "    test_labels, \n",
        "    verbose=1\n",
        ")"
      ],
      "metadata": {
        "colab": {
          "base_uri": "https://localhost:8080/"
        },
        "id": "iUdUtDZnm2ys",
        "outputId": "5db3c395-ddc7-4e3f-e287-0aecfa1dabb6"
      },
      "execution_count": 116,
      "outputs": [
        {
          "output_type": "stream",
          "name": "stdout",
          "text": [
            "3/3 [==============================] - 0s 6ms/step - loss: 3.6466\n"
          ]
        }
      ]
    },
    {
      "cell_type": "code",
      "source": [
        "x = tf.linspace(0.0, 250, 251)\n",
        "y = horsepower_model.predict(x)\n",
        "def plot_horsepower(x, y):\n",
        "  plt.scatter(train_features['Horsepower'], train_labels, label='Data')\n",
        "  plt.plot(x, y, color='k', label='Predictions')\n",
        "  plt.xlabel('Horsepower')\n",
        "  plt.ylabel('MPG')\n",
        "  plt.legend()\n",
        "plot_horsepower(x, y)"
      ],
      "metadata": {
        "colab": {
          "base_uri": "https://localhost:8080/",
          "height": 466
        },
        "id": "9Zr69AS2nsIp",
        "outputId": "23327e1e-b925-4f20-d7e4-0ba2f72f2da8"
      },
      "execution_count": 117,
      "outputs": [
        {
          "output_type": "stream",
          "name": "stdout",
          "text": [
            "8/8 [==============================] - 0s 2ms/step\n"
          ]
        },
        {
          "output_type": "display_data",
          "data": {
            "text/plain": [
              "<Figure size 640x480 with 1 Axes>"
            ],
            "image/png": "[encoded data removed]"
          },
          "metadata": {}
        }
      ]
    },
    {
      "cell_type": "markdown",
      "source": [
        "Predicting using multiple inputs"
      ],
      "metadata": {
        "id": "-B1iHcuGn3sc"
      }
    },
    {
      "cell_type": "code",
      "source": [
        "linear_model = tf.keras.Sequential([\n",
        "    normalizer,\n",
        "    layers.Dense(units=1)\n",
        "])\n",
        "linear_model.summary()"
      ],
      "metadata": {
        "colab": {
          "base_uri": "https://localhost:8080/"
        },
        "id": "Vym0X-Bvn6Ds",
        "outputId": "61a69fd9-d50e-4e08-bdd8-19c1dda650fb"
      },
      "execution_count": 119,
      "outputs": [
        {
          "output_type": "stream",
          "name": "stdout",
          "text": [
            "Model: \"sequential_2\"\n",
            "_________________________________________________________________\n",
            " Layer (type)                Output Shape              Param #   \n",
            "=================================================================\n",
            " normalization (Normalizatio  (None, 9)                19        \n",
            " n)                                                              \n",
            "                                                                 \n",
            " dense_2 (Dense)             (None, 1)                 10        \n",
            "                                                                 \n",
            "=================================================================\n",
            "Total params: 29\n",
            "Trainable params: 10\n",
            "Non-trainable params: 19\n",
            "_________________________________________________________________\n"
          ]
        }
      ]
    },
    {
      "cell_type": "code",
      "source": [
        "linear_model.compile(\n",
        "    optimizer=tf.keras.optimizers.Adam(learning_rate=0.1),\n",
        "    loss='mean_absolute_error'\n",
        ")"
      ],
      "metadata": {
        "id": "nNP2NV1nn9q3"
      },
      "execution_count": 122,
      "outputs": []
    },
    {
      "cell_type": "code",
      "source": [
        "%%time\n",
        "history = linear_model.fit(\n",
        "    train_features,\n",
        "    train_labels,\n",
        "    epochs=100,\n",
        "    verbose=1,\n",
        "    validation_split = 0.2)"
      ],
      "metadata": {
        "colab": {
          "base_uri": "https://localhost:8080/"
        },
        "id": "7satuYj1og2p",
        "outputId": "3071c3c4-e0a0-4d2f-8663-cac9f1d01328"
      },
      "execution_count": 123,
      "outputs": [
        {
          "output_type": "stream",
          "name": "stdout",
          "text": [
            "Epoch 1/100\n",
            "8/8 [==============================] - 1s 48ms/step - loss: 22.9502 - val_loss: 23.1112\n",
            "Epoch 2/100\n",
            "8/8 [==============================] - 0s 11ms/step - loss: 22.0170 - val_loss: 22.3755\n",
            "Epoch 3/100\n",
            "8/8 [==============================] - 0s 13ms/step - loss: 21.2005 - val_loss: 21.6711\n",
            "Epoch 4/100\n",
            "8/8 [==============================] - 0s 12ms/step - loss: 20.4003 - val_loss: 20.9743\n",
            "Epoch 5/100\n",
            "8/8 [==============================] - 0s 12ms/step - loss: 19.5675 - val_loss: 20.2324\n",
            "Epoch 6/100\n",
            "8/8 [==============================] - 0s 12ms/step - loss: 18.7807 - val_loss: 19.5425\n",
            "Epoch 7/100\n",
            "8/8 [==============================] - 0s 11ms/step - loss: 17.9140 - val_loss: 18.8302\n",
            "Epoch 8/100\n",
            "8/8 [==============================] - 0s 12ms/step - loss: 17.0965 - val_loss: 18.1119\n",
            "Epoch 9/100\n",
            "8/8 [==============================] - 0s 13ms/step - loss: 16.2750 - val_loss: 17.3785\n",
            "Epoch 10/100\n",
            "8/8 [==============================] - 0s 12ms/step - loss: 15.4608 - val_loss: 16.6646\n",
            "Epoch 11/100\n",
            "8/8 [==============================] - 0s 13ms/step - loss: 14.6533 - val_loss: 16.0299\n",
            "Epoch 12/100\n",
            "8/8 [==============================] - 0s 13ms/step - loss: 13.8335 - val_loss: 15.2002\n",
            "Epoch 13/100\n",
            "8/8 [==============================] - 0s 8ms/step - loss: 13.0359 - val_loss: 14.5271\n",
            "Epoch 14/100\n",
            "8/8 [==============================] - 0s 6ms/step - loss: 12.2205 - val_loss: 13.7751\n",
            "Epoch 15/100\n",
            "8/8 [==============================] - 0s 9ms/step - loss: 11.4228 - val_loss: 13.0870\n",
            "Epoch 16/100\n",
            "8/8 [==============================] - 0s 6ms/step - loss: 10.6272 - val_loss: 12.3852\n",
            "Epoch 17/100\n",
            "8/8 [==============================] - 0s 6ms/step - loss: 9.8577 - val_loss: 11.6641\n",
            "Epoch 18/100\n",
            "8/8 [==============================] - 0s 6ms/step - loss: 9.1204 - val_loss: 10.8635\n",
            "Epoch 19/100\n",
            "8/8 [==============================] - 0s 9ms/step - loss: 8.3138 - val_loss: 10.1717\n",
            "Epoch 20/100\n",
            "8/8 [==============================] - 0s 8ms/step - loss: 7.6183 - val_loss: 9.4208\n",
            "Epoch 21/100\n",
            "8/8 [==============================] - 0s 6ms/step - loss: 6.9796 - val_loss: 8.7099\n",
            "Epoch 22/100\n",
            "8/8 [==============================] - 0s 9ms/step - loss: 6.4084 - val_loss: 8.0018\n",
            "Epoch 23/100\n",
            "8/8 [==============================] - 0s 8ms/step - loss: 5.8759 - val_loss: 7.2936\n",
            "Epoch 24/100\n",
            "8/8 [==============================] - 0s 9ms/step - loss: 5.3785 - val_loss: 6.7324\n",
            "Epoch 25/100\n",
            "8/8 [==============================] - 0s 9ms/step - loss: 4.9416 - val_loss: 6.1880\n",
            "Epoch 26/100\n",
            "8/8 [==============================] - 0s 6ms/step - loss: 4.4968 - val_loss: 5.6072\n",
            "Epoch 27/100\n",
            "8/8 [==============================] - 0s 6ms/step - loss: 4.0758 - val_loss: 4.9005\n",
            "Epoch 28/100\n",
            "8/8 [==============================] - 0s 6ms/step - loss: 3.6200 - val_loss: 4.2398\n",
            "Epoch 29/100\n",
            "8/8 [==============================] - 0s 9ms/step - loss: 3.3238 - val_loss: 3.5039\n",
            "Epoch 30/100\n",
            "8/8 [==============================] - 0s 6ms/step - loss: 3.0333 - val_loss: 3.2795\n",
            "Epoch 31/100\n",
            "8/8 [==============================] - 0s 9ms/step - loss: 2.8402 - val_loss: 2.9247\n",
            "Epoch 32/100\n",
            "8/8 [==============================] - 0s 9ms/step - loss: 2.7582 - val_loss: 2.8093\n",
            "Epoch 33/100\n",
            "8/8 [==============================] - 0s 9ms/step - loss: 2.6976 - val_loss: 2.7961\n",
            "Epoch 34/100\n",
            "8/8 [==============================] - 0s 9ms/step - loss: 2.5883 - val_loss: 2.7341\n",
            "Epoch 35/100\n",
            "8/8 [==============================] - 0s 6ms/step - loss: 2.5557 - val_loss: 2.7295\n",
            "Epoch 36/100\n",
            "8/8 [==============================] - 0s 6ms/step - loss: 2.5458 - val_loss: 2.6581\n",
            "Epoch 37/100\n",
            "8/8 [==============================] - 0s 6ms/step - loss: 2.5315 - val_loss: 2.5924\n",
            "Epoch 38/100\n",
            "8/8 [==============================] - 0s 9ms/step - loss: 2.5326 - val_loss: 2.5669\n",
            "Epoch 39/100\n",
            "8/8 [==============================] - 0s 7ms/step - loss: 2.5145 - val_loss: 2.5755\n",
            "Epoch 40/100\n",
            "8/8 [==============================] - 0s 9ms/step - loss: 2.4949 - val_loss: 2.5445\n",
            "Epoch 41/100\n",
            "8/8 [==============================] - 0s 9ms/step - loss: 2.4982 - val_loss: 2.5399\n",
            "Epoch 42/100\n",
            "8/8 [==============================] - 0s 6ms/step - loss: 2.4879 - val_loss: 2.5471\n",
            "Epoch 43/100\n",
            "8/8 [==============================] - 0s 7ms/step - loss: 2.4886 - val_loss: 2.4982\n",
            "Epoch 44/100\n",
            "8/8 [==============================] - 0s 9ms/step - loss: 2.4786 - val_loss: 2.4827\n",
            "Epoch 45/100\n",
            "8/8 [==============================] - 0s 6ms/step - loss: 2.5177 - val_loss: 2.5163\n",
            "Epoch 46/100\n",
            "8/8 [==============================] - 0s 6ms/step - loss: 2.4823 - val_loss: 2.4820\n",
            "Epoch 47/100\n",
            "8/8 [==============================] - 0s 6ms/step - loss: 2.4840 - val_loss: 2.5206\n",
            "Epoch 48/100\n",
            "8/8 [==============================] - 0s 10ms/step - loss: 2.4814 - val_loss: 2.4729\n",
            "Epoch 49/100\n",
            "8/8 [==============================] - 0s 12ms/step - loss: 2.4810 - val_loss: 2.4953\n",
            "Epoch 50/100\n",
            "8/8 [==============================] - 0s 13ms/step - loss: 2.4783 - val_loss: 2.4830\n",
            "Epoch 51/100\n",
            "8/8 [==============================] - 0s 11ms/step - loss: 2.4757 - val_loss: 2.4623\n",
            "Epoch 52/100\n",
            "8/8 [==============================] - 0s 11ms/step - loss: 2.4783 - val_loss: 2.4900\n",
            "Epoch 53/100\n",
            "8/8 [==============================] - 0s 12ms/step - loss: 2.4818 - val_loss: 2.4859\n",
            "Epoch 54/100\n",
            "8/8 [==============================] - 0s 11ms/step - loss: 2.4762 - val_loss: 2.5058\n",
            "Epoch 55/100\n",
            "8/8 [==============================] - 0s 12ms/step - loss: 2.4660 - val_loss: 2.4824\n",
            "Epoch 56/100\n",
            "8/8 [==============================] - 0s 11ms/step - loss: 2.4745 - val_loss: 2.4963\n",
            "Epoch 57/100\n",
            "8/8 [==============================] - 0s 11ms/step - loss: 2.4796 - val_loss: 2.4878\n",
            "Epoch 58/100\n",
            "8/8 [==============================] - 0s 11ms/step - loss: 2.4695 - val_loss: 2.4700\n",
            "Epoch 59/100\n",
            "8/8 [==============================] - 0s 11ms/step - loss: 2.4988 - val_loss: 2.4910\n",
            "Epoch 60/100\n",
            "8/8 [==============================] - 0s 12ms/step - loss: 2.4733 - val_loss: 2.4892\n",
            "Epoch 61/100\n",
            "8/8 [==============================] - 0s 12ms/step - loss: 2.4694 - val_loss: 2.5096\n",
            "Epoch 62/100\n",
            "8/8 [==============================] - 0s 11ms/step - loss: 2.4673 - val_loss: 2.4844\n",
            "Epoch 63/100\n",
            "8/8 [==============================] - 0s 12ms/step - loss: 2.4729 - val_loss: 2.4859\n",
            "Epoch 64/100\n",
            "8/8 [==============================] - 0s 14ms/step - loss: 2.4972 - val_loss: 2.4727\n",
            "Epoch 65/100\n",
            "8/8 [==============================] - 0s 11ms/step - loss: 2.4860 - val_loss: 2.4934\n",
            "Epoch 66/100\n",
            "8/8 [==============================] - 0s 13ms/step - loss: 2.4766 - val_loss: 2.4687\n",
            "Epoch 67/100\n",
            "8/8 [==============================] - 0s 12ms/step - loss: 2.4630 - val_loss: 2.5045\n",
            "Epoch 68/100\n",
            "8/8 [==============================] - 0s 12ms/step - loss: 2.4741 - val_loss: 2.4681\n",
            "Epoch 69/100\n",
            "8/8 [==============================] - 0s 12ms/step - loss: 2.4766 - val_loss: 2.4825\n",
            "Epoch 70/100\n",
            "8/8 [==============================] - 0s 11ms/step - loss: 2.4696 - val_loss: 2.4863\n",
            "Epoch 71/100\n",
            "8/8 [==============================] - 0s 11ms/step - loss: 2.4774 - val_loss: 2.4559\n",
            "Epoch 72/100\n",
            "8/8 [==============================] - 0s 11ms/step - loss: 2.4598 - val_loss: 2.4799\n",
            "Epoch 73/100\n",
            "8/8 [==============================] - 0s 8ms/step - loss: 2.4689 - val_loss: 2.4550\n",
            "Epoch 74/100\n",
            "8/8 [==============================] - 0s 8ms/step - loss: 2.4841 - val_loss: 2.4775\n",
            "Epoch 75/100\n",
            "8/8 [==============================] - 0s 11ms/step - loss: 2.4846 - val_loss: 2.4627\n",
            "Epoch 76/100\n",
            "8/8 [==============================] - 0s 11ms/step - loss: 2.5254 - val_loss: 2.4562\n",
            "Epoch 77/100\n",
            "8/8 [==============================] - 0s 11ms/step - loss: 2.5295 - val_loss: 2.4602\n",
            "Epoch 78/100\n",
            "8/8 [==============================] - 0s 11ms/step - loss: 2.5022 - val_loss: 2.5287\n",
            "Epoch 79/100\n",
            "8/8 [==============================] - 0s 11ms/step - loss: 2.4841 - val_loss: 2.4738\n",
            "Epoch 80/100\n",
            "8/8 [==============================] - 0s 10ms/step - loss: 2.4658 - val_loss: 2.4788\n",
            "Epoch 81/100\n",
            "8/8 [==============================] - 0s 11ms/step - loss: 2.4829 - val_loss: 2.4515\n",
            "Epoch 82/100\n",
            "8/8 [==============================] - 0s 9ms/step - loss: 2.4775 - val_loss: 2.4644\n",
            "Epoch 83/100\n",
            "8/8 [==============================] - 0s 8ms/step - loss: 2.4880 - val_loss: 2.4433\n",
            "Epoch 84/100\n",
            "8/8 [==============================] - 0s 10ms/step - loss: 2.4827 - val_loss: 2.4833\n",
            "Epoch 85/100\n",
            "8/8 [==============================] - 0s 9ms/step - loss: 2.4752 - val_loss: 2.4696\n",
            "Epoch 86/100\n",
            "8/8 [==============================] - 0s 11ms/step - loss: 2.4753 - val_loss: 2.4727\n",
            "Epoch 87/100\n",
            "8/8 [==============================] - 0s 9ms/step - loss: 2.4688 - val_loss: 2.4722\n",
            "Epoch 88/100\n",
            "8/8 [==============================] - 0s 10ms/step - loss: 2.4853 - val_loss: 2.4909\n",
            "Epoch 89/100\n",
            "8/8 [==============================] - 0s 12ms/step - loss: 2.4811 - val_loss: 2.4681\n",
            "Epoch 90/100\n",
            "8/8 [==============================] - 0s 12ms/step - loss: 2.4794 - val_loss: 2.4842\n",
            "Epoch 91/100\n",
            "8/8 [==============================] - 0s 12ms/step - loss: 2.5003 - val_loss: 2.4583\n",
            "Epoch 92/100\n",
            "8/8 [==============================] - 0s 10ms/step - loss: 2.5014 - val_loss: 2.4823\n",
            "Epoch 93/100\n",
            "8/8 [==============================] - 0s 9ms/step - loss: 2.4879 - val_loss: 2.4705\n",
            "Epoch 94/100\n",
            "8/8 [==============================] - 0s 9ms/step - loss: 2.4742 - val_loss: 2.5093\n",
            "Epoch 95/100\n",
            "8/8 [==============================] - 0s 11ms/step - loss: 2.4938 - val_loss: 2.4563\n",
            "Epoch 96/100\n",
            "8/8 [==============================] - 0s 11ms/step - loss: 2.4755 - val_loss: 2.4631\n",
            "Epoch 97/100\n",
            "8/8 [==============================] - 0s 12ms/step - loss: 2.4737 - val_loss: 2.4676\n",
            "Epoch 98/100\n",
            "8/8 [==============================] - 0s 8ms/step - loss: 2.4745 - val_loss: 2.4706\n",
            "Epoch 99/100\n",
            "8/8 [==============================] - 0s 13ms/step - loss: 2.4667 - val_loss: 2.4594\n",
            "Epoch 100/100\n",
            "8/8 [==============================] - 0s 11ms/step - loss: 2.4690 - val_loss: 2.4677\n",
            "CPU times: user 7.29 s, sys: 230 ms, total: 7.52 s\n",
            "Wall time: 10.9 s\n"
          ]
        }
      ]
    },
    {
      "cell_type": "code",
      "source": [
        "plot_loss(history)"
      ],
      "metadata": {
        "colab": {
          "base_uri": "https://localhost:8080/",
          "height": 455
        },
        "id": "vXwYsDieoncY",
        "outputId": "25a06528-0ba5-4ad7-bfa8-a927bd8bffa7"
      },
      "execution_count": 124,
      "outputs": [
        {
          "output_type": "display_data",
          "data": {
            "text/plain": [
              "<Figure size 640x480 with 1 Axes>"
            ],
            "image/png": "[encoded data removed]"
          },
          "metadata": {}
        }
      ]
    },
    {
      "cell_type": "code",
      "source": [
        "test_results['linear_model'] = linear_model.evaluate(\n",
        "    test_features, test_labels, verbose=1)"
      ],
      "metadata": {
        "colab": {
          "base_uri": "https://localhost:8080/"
        },
        "id": "4jUKd_3louR6",
        "outputId": "f15b1443-8ed2-48a6-fbeb-143bb3725112"
      },
      "execution_count": 126,
      "outputs": [
        {
          "output_type": "stream",
          "name": "stdout",
          "text": [
            "3/3 [==============================] - 0s 4ms/step - loss: 2.4638\n"
          ]
        }
      ]
    },
    {
      "cell_type": "markdown",
      "source": [
        "Adding dense layers"
      ],
      "metadata": {
        "id": "G3sCBWWsphzg"
      }
    },
    {
      "cell_type": "code",
      "source": [
        "def build_and_compile_model(norm):\n",
        "  model = keras.Sequential([\n",
        "      norm,\n",
        "      layers.Dense(64, activation='relu'),\n",
        "      layers.Dense(64, activation='relu'),\n",
        "      layers.Dense(1)\n",
        "  ])\n",
        "\n",
        "  model.compile(loss='mean_absolute_error',\n",
        "                optimizer=tf.keras.optimizers.Adam(0.001))\n",
        "  return model"
      ],
      "metadata": {
        "id": "_1d1jv86ox2D"
      },
      "execution_count": 127,
      "outputs": []
    },
    {
      "cell_type": "markdown",
      "source": [
        "Working with 1 feautre"
      ],
      "metadata": {
        "id": "cype3sxIprTU"
      }
    },
    {
      "cell_type": "code",
      "source": [
        "dnn_horsepower_model = build_and_compile_model(horsepower_normalizer)\n",
        "dnn_horsepower_model.summary()"
      ],
      "metadata": {
        "colab": {
          "base_uri": "https://localhost:8080/"
        },
        "id": "31T39MjApo1_",
        "outputId": "758d18d0-ee69-43cd-f47c-caa9c13f9c7e"
      },
      "execution_count": 129,
      "outputs": [
        {
          "output_type": "stream",
          "name": "stdout",
          "text": [
            "Model: \"sequential_4\"\n",
            "_________________________________________________________________\n",
            " Layer (type)                Output Shape              Param #   \n",
            "=================================================================\n",
            " normalization_1 (Normalizat  (None, 1)                3         \n",
            " ion)                                                            \n",
            "                                                                 \n",
            " dense_6 (Dense)             (None, 64)                128       \n",
            "                                                                 \n",
            " dense_7 (Dense)             (None, 64)                4160      \n",
            "                                                                 \n",
            " dense_8 (Dense)             (None, 1)                 65        \n",
            "                                                                 \n",
            "=================================================================\n",
            "Total params: 4,356\n",
            "Trainable params: 4,353\n",
            "Non-trainable params: 3\n",
            "_________________________________________________________________\n"
          ]
        }
      ]
    },
    {
      "cell_type": "code",
      "source": [
        "%%time\n",
        "history = dnn_horsepower_model.fit(\n",
        "    train_features['Horsepower'],\n",
        "    train_labels,\n",
        "    validation_split=0.2,\n",
        "    verbose=0, epochs=100)"
      ],
      "metadata": {
        "colab": {
          "base_uri": "https://localhost:8080/"
        },
        "id": "Ccb48gUmptaD",
        "outputId": "8e6f5da3-2478-4cbd-f129-a4c7820e92c1"
      },
      "execution_count": 130,
      "outputs": [
        {
          "output_type": "stream",
          "name": "stdout",
          "text": [
            "CPU times: user 6.78 s, sys: 192 ms, total: 6.97 s\n",
            "Wall time: 7.53 s\n"
          ]
        }
      ]
    },
    {
      "cell_type": "code",
      "source": [
        "plot_loss(history)"
      ],
      "metadata": {
        "colab": {
          "base_uri": "https://localhost:8080/",
          "height": 455
        },
        "id": "IhnpFWlkpyn0",
        "outputId": "2211b1ab-9526-44b2-b0f7-0e2b566fb926"
      },
      "execution_count": 131,
      "outputs": [
        {
          "output_type": "display_data",
          "data": {
            "text/plain": [
              "<Figure size 640x480 with 1 Axes>"
            ],
            "image/png": "[encoded data removed]"
          },
          "metadata": {}
        }
      ]
    },
    {
      "cell_type": "code",
      "source": [
        "x = tf.linspace(0.0, 250, 251)\n",
        "y = dnn_horsepower_model.predict(x)\n",
        "plot_horsepower(x, y)"
      ],
      "metadata": {
        "colab": {
          "base_uri": "https://localhost:8080/",
          "height": 466
        },
        "id": "cuTteM2Vp1NB",
        "outputId": "e17fd8ab-f241-4a26-c368-befec40a290e"
      },
      "execution_count": 132,
      "outputs": [
        {
          "output_type": "stream",
          "name": "stdout",
          "text": [
            "8/8 [==============================] - 0s 2ms/step\n"
          ]
        },
        {
          "output_type": "display_data",
          "data": {
            "text/plain": [
              "<Figure size 640x480 with 1 Axes>"
            ],
            "image/png": "[encoded data removed]"
          },
          "metadata": {}
        }
      ]
    },
    {
      "cell_type": "code",
      "source": [
        "test_results['dnn_horsepower_model'] = dnn_horsepower_model.evaluate(\n",
        "    test_features['Horsepower'], test_labels,\n",
        "    verbose=0)"
      ],
      "metadata": {
        "id": "KjXJcgZmp5x5"
      },
      "execution_count": 133,
      "outputs": []
    },
    {
      "cell_type": "markdown",
      "source": [
        "Multiple features + DNN"
      ],
      "metadata": {
        "id": "3gltk1zoqJN8"
      }
    },
    {
      "cell_type": "code",
      "source": [
        "dnn_model = build_and_compile_model(normalizer)\n",
        "dnn_model.summary()"
      ],
      "metadata": {
        "colab": {
          "base_uri": "https://localhost:8080/"
        },
        "id": "Mfe2lTsyqG6o",
        "outputId": "785dbfb5-2ed5-453d-87b6-160226fb0d03"
      },
      "execution_count": 134,
      "outputs": [
        {
          "output_type": "stream",
          "name": "stdout",
          "text": [
            "Model: \"sequential_5\"\n",
            "_________________________________________________________________\n",
            " Layer (type)                Output Shape              Param #   \n",
            "=================================================================\n",
            " normalization (Normalizatio  (None, 9)                19        \n",
            " n)                                                              \n",
            "                                                                 \n",
            " dense_9 (Dense)             (None, 64)                640       \n",
            "                                                                 \n",
            " dense_10 (Dense)            (None, 64)                4160      \n",
            "                                                                 \n",
            " dense_11 (Dense)            (None, 1)                 65        \n",
            "                                                                 \n",
            "=================================================================\n",
            "Total params: 4,884\n",
            "Trainable params: 4,865\n",
            "Non-trainable params: 19\n",
            "_________________________________________________________________\n"
          ]
        }
      ]
    },
    {
      "cell_type": "code",
      "source": [
        "%%time\n",
        "history = dnn_model.fit(\n",
        "    train_features,\n",
        "    train_labels,\n",
        "    validation_split=0.2,\n",
        "    verbose=0, epochs=100)"
      ],
      "metadata": {
        "colab": {
          "base_uri": "https://localhost:8080/"
        },
        "id": "sq_ipK4nqMhh",
        "outputId": "5802a4c6-1aca-4db4-b880-9e09490585ae"
      },
      "execution_count": 135,
      "outputs": [
        {
          "output_type": "stream",
          "name": "stdout",
          "text": [
            "CPU times: user 6.05 s, sys: 197 ms, total: 6.25 s\n",
            "Wall time: 11.5 s\n"
          ]
        }
      ]
    },
    {
      "cell_type": "code",
      "source": [
        "plot_loss(history)"
      ],
      "metadata": {
        "colab": {
          "base_uri": "https://localhost:8080/",
          "height": 455
        },
        "id": "nfoyhXYYqOLe",
        "outputId": "00a787d6-f772-4991-cabc-c1b51a54f38c"
      },
      "execution_count": 136,
      "outputs": [
        {
          "output_type": "display_data",
          "data": {
            "text/plain": [
              "<Figure size 640x480 with 1 Axes>"
            ],
            "image/png": "[encoded data removed]"
          },
          "metadata": {}
        }
      ]
    },
    {
      "cell_type": "code",
      "source": [
        "test_results['dnn_model'] = dnn_model.evaluate(test_features, test_labels, verbose=0)"
      ],
      "metadata": {
        "id": "OmLt5TX3qSYV"
      },
      "execution_count": 137,
      "outputs": []
    },
    {
      "cell_type": "markdown",
      "source": [
        "Results"
      ],
      "metadata": {
        "id": "7UcWEfT_qaWx"
      }
    },
    {
      "cell_type": "code",
      "source": [
        "pd.DataFrame(test_results, index=['Mean absolute error [MPG]']).T"
      ],
      "metadata": {
        "colab": {
          "base_uri": "https://localhost:8080/",
          "height": 175
        },
        "id": "yjlckmT8qVWd",
        "outputId": "4037d0e7-cb1f-4a99-91ed-f66a67fe3149"
      },
      "execution_count": 138,
      "outputs": [
        {
          "output_type": "execute_result",
          "data": {
            "text/plain": [
              "                      Mean absolute error [MPG]\n",
              "horsepower_model                       3.646624\n",
              "linear_model                           2.463765\n",
              "dnn_horsepower_model                   2.894259\n",
              "dnn_model                              1.745981"
            ],
            "text/html": [
              "\n",
              "  <div id=\"df-cd812cca-daa3-4802-8500-8029117ab8ff\">\n",
              "    <div class=\"colab-df-container\">\n",
              "      <div>\n",
              "<style scoped>\n",
              "    .dataframe tbody tr th:only-of-type {\n",
              "        vertical-align: middle;\n",
              "    }\n",
              "\n",
              "    .dataframe tbody tr th {\n",
              "        vertical-align: top;\n",
              "    }\n",
              "\n",
              "    .dataframe thead th {\n",
              "        text-align: right;\n",
              "    }\n",
              "</style>\n",
              "<table border=\"1\" class=\"dataframe\">\n",
              "  <thead>\n",
              "    <tr style=\"text-align: right;\">\n",
              "      <th></th>\n",
              "      <th>Mean absolute error [MPG]</th>\n",
              "    </tr>\n",
              "  </thead>\n",
              "  <tbody>\n",
              "    <tr>\n",
              "      <th>horsepower_model</th>\n",
              "      <td>3.646624</td>\n",
              "    </tr>\n",
              "    <tr>\n",
              "      <th>linear_model</th>\n",
              "      <td>2.463765</td>\n",
              "    </tr>\n",
              "    <tr>\n",
              "      <th>dnn_horsepower_model</th>\n",
              "      <td>2.894259</td>\n",
              "    </tr>\n",
              "    <tr>\n",
              "      <th>dnn_model</th>\n",
              "      <td>1.745981</td>\n",
              "    </tr>\n",
              "  </tbody>\n",
              "</table>\n",
              "</div>\n",
              "      <button class=\"colab-df-convert\" onclick=\"convertToInteractive('df-cd812cca-daa3-4802-8500-8029117ab8ff')\"\n",
              "              title=\"Convert this dataframe to an interactive table.\"\n",
              "              style=\"display:none;\">\n",
              "        \n",
              "  <svg xmlns=\"http://www.w3.org/2000/svg\" height=\"24px\"viewBox=\"0 0 24 24\"\n",
              "       width=\"24px\">\n",
              "    <path d=\"M0 0h24v24H0V0z\" fill=\"none\"/>\n",
              "    <path d=\"M18.56 5.44l.94 2.06.94-2.06 2.06-.94-2.06-.94-.94-2.06-.94 2.06-2.06.94zm-11 1L8.5 8.5l.94-2.06 2.06-.94-2.06-.94L8.5 2.5l-.94 2.06-2.06.94zm10 10l.94 2.06.94-2.06 2.06-.94-2.06-.94-.94-2.06-.94 2.06-2.06.94z\"/><path d=\"M17.41 7.96l-1.37-1.37c-.4-.4-.92-.59-1.43-.59-.52 0-1.04.2-1.43.59L10.3 9.45l-7.72 7.72c-.78.78-.78 2.05 0 2.83L4 21.41c.39.39.9.59 1.41.59.51 0 1.02-.2 1.41-.59l7.78-7.78 2.81-2.81c.8-.78.8-2.07 0-2.86zM5.41 20L4 18.59l7.72-7.72 1.47 1.35L5.41 20z\"/>\n",
              "  </svg>\n",
              "      </button>\n",
              "      \n",
              "  <style>\n",
              "    .colab-df-container {\n",
              "      display:flex;\n",
              "      flex-wrap:wrap;\n",
              "      gap: 12px;\n",
              "    }\n",
              "\n",
              "    .colab-df-convert {\n",
              "      background-color: #E8F0FE;\n",
              "      border: none;\n",
              "      border-radius: 50%;\n",
              "      cursor: pointer;\n",
              "      display: none;\n",
              "      fill: #1967D2;\n",
              "      height: 32px;\n",
              "      padding: 0 0 0 0;\n",
              "      width: 32px;\n",
              "    }\n",
              "\n",
              "    .colab-df-convert:hover {\n",
              "      background-color: #E2EBFA;\n",
              "      box-shadow: 0px 1px 2px rgba(60, 64, 67, 0.3), 0px 1px 3px 1px rgba(60, 64, 67, 0.15);\n",
              "      fill: #174EA6;\n",
              "    }\n",
              "\n",
              "    [theme=dark] .colab-df-convert {\n",
              "      background-color: #3B4455;\n",
              "      fill: #D2E3FC;\n",
              "    }\n",
              "\n",
              "    [theme=dark] .colab-df-convert:hover {\n",
              "      background-color: #434B5C;\n",
              "      box-shadow: 0px 1px 3px 1px rgba(0, 0, 0, 0.15);\n",
              "      filter: drop-shadow(0px 1px 2px rgba(0, 0, 0, 0.3));\n",
              "      fill: #FFFFFF;\n",
              "    }\n",
              "  </style>\n",
              "\n",
              "      <script>\n",
              "        const buttonEl =\n",
              "          document.querySelector('#df-cd812cca-daa3-4802-8500-8029117ab8ff button.colab-df-convert');\n",
              "        buttonEl.style.display =\n",
              "          google.colab.kernel.accessAllowed ? 'block' : 'none';\n",
              "\n",
              "        async function convertToInteractive(key) {\n",
              "          const element = document.querySelector('#df-cd812cca-daa3-4802-8500-8029117ab8ff');\n",
              "          const dataTable =\n",
              "            await google.colab.kernel.invokeFunction('convertToInteractive',\n",
              "                                                     [key], {});\n",
              "          if (!dataTable) return;\n",
              "\n",
              "          const docLinkHtml = 'Like what you see? Visit the ' +\n",
              "            '<a target=\"_blank\" href=https://colab.research.google.com/notebooks/data_table.ipynb>data table notebook</a>'\n",
              "            + ' to learn more about interactive tables.';\n",
              "          element.innerHTML = '';\n",
              "          dataTable['output_type'] = 'display_data';\n",
              "          await google.colab.output.renderOutput(dataTable, element);\n",
              "          const docLink = document.createElement('div');\n",
              "          docLink.innerHTML = docLinkHtml;\n",
              "          element.appendChild(docLink);\n",
              "        }\n",
              "      </script>\n",
              "    </div>\n",
              "  </div>\n",
              "  "
            ]
          },
          "metadata": {},
          "execution_count": 138
        }
      ]
    },
    {
      "cell_type": "code",
      "source": [
        "test_predictions = dnn_model.predict(test_features).flatten()\n",
        "\n",
        "a = plt.axes(aspect='equal')\n",
        "plt.scatter(test_labels, test_predictions)\n",
        "plt.xlabel('True Values [MPG]')\n",
        "plt.ylabel('Predictions [MPG]')\n",
        "lims = [0, 50]\n",
        "plt.xlim(lims)\n",
        "plt.ylim(lims)\n",
        "_ = plt.plot(lims, lims)"
      ],
      "metadata": {
        "colab": {
          "base_uri": "https://localhost:8080/",
          "height": 472
        },
        "id": "aUnBu3phqZQO",
        "outputId": "0964cd2b-425b-49b2-b6a2-7e9c789ade12"
      },
      "execution_count": 139,
      "outputs": [
        {
          "output_type": "stream",
          "name": "stdout",
          "text": [
            "3/3 [==============================] - 0s 8ms/step\n"
          ]
        },
        {
          "output_type": "display_data",
          "data": {
            "text/plain": [
              "<Figure size 640x480 with 1 Axes>"
            ],
            "image/png": "[encoded data removed]"
          },
          "metadata": {}
        }
      ]
    },
    {
      "cell_type": "code",
      "source": [
        "error = test_predictions - test_labels\n",
        "plt.hist(error, bins=25)\n",
        "plt.xlabel('Prediction Error [MPG]')\n",
        "_ = plt.ylabel('Count')"
      ],
      "metadata": {
        "colab": {
          "base_uri": "https://localhost:8080/",
          "height": 449
        },
        "id": "kf0lywUXqnoH",
        "outputId": "3dc90528-0116-430f-b084-2b62a7f72f5c"
      },
      "execution_count": 140,
      "outputs": [
        {
          "output_type": "display_data",
          "data": {
            "text/plain": [
              "<Figure size 640x480 with 1 Axes>"
            ],
            "image/png": "[encoded data removed]"
          },
          "metadata": {}
        }
      ]
    },
    {
      "cell_type": "code",
      "source": [
        "dnn_model.save('dnn_model')"
      ],
      "metadata": {
        "colab": {
          "base_uri": "https://localhost:8080/"
        },
        "id": "T07vBmM1qtU5",
        "outputId": "b8b4d29d-f3d5-41c7-e181-2fde190f708e"
      },
      "execution_count": 141,
      "outputs": [
        {
          "output_type": "stream",
          "name": "stderr",
          "text": [
            "WARNING:absl:Found untraced functions such as _update_step_xla while saving (showing 1 of 1). These functions will not be directly callable after loading.\n"
          ]
        }
      ]
    },
    {
      "cell_type": "code",
      "source": [
        "reloaded = tf.keras.models.load_model('dnn_model')\n",
        "\n",
        "test_results['reloaded'] = reloaded.evaluate(\n",
        "    test_features, test_labels, verbose=0)"
      ],
      "metadata": {
        "id": "zV0iWerJqx2f"
      },
      "execution_count": 142,
      "outputs": []
    },
    {
      "cell_type": "code",
      "source": [],
      "metadata": {
        "id": "v8UGz_INq3_v"
      },
      "execution_count": null,
      "outputs": []
    }
  ],
  "metadata": {
    "colab": {
      "provenance": []
    },
    "kernelspec": {
      "display_name": "Python 3",
      "name": "python3"
    },
    "language_info": {
      "name": "python"
    }
  },
  "nbformat": 4,
  "nbformat_minor": 0
}